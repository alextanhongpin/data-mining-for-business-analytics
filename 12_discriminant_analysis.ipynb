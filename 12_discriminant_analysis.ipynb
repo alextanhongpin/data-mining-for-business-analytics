{
 "cells": [
  {
   "cell_type": "markdown",
   "id": "future-colleague",
   "metadata": {},
   "source": [
    "## Discriminant Analysis\n",
    "\n",
    "- a classification method"
   ]
  },
  {
   "cell_type": "code",
   "execution_count": null,
   "id": "norwegian-generation",
   "metadata": {},
   "outputs": [],
   "source": [
    "import matplotlib.pylab as plt\n",
    "import numpy as np\n",
    "import pandas as pd\n",
    "from sklearn.discriminant_analysis import LinearDiscriminantAnalysis\n",
    "\n",
    "from metrics import classification_summary\n",
    "from pandas_util import normalize_columns"
   ]
  },
  {
   "cell_type": "code",
   "execution_count": null,
   "id": "oriented-beverage",
   "metadata": {},
   "outputs": [],
   "source": [
    "mower_df = pd.read_csv(\"./datasets/dmba/RidingMowers.csv\")\n",
    "normalize_columns(mower_df)\n",
    "mower_df.head()"
   ]
  },
  {
   "cell_type": "code",
   "execution_count": null,
   "id": "civil-projection",
   "metadata": {},
   "outputs": [],
   "source": [
    "da_reg = LinearDiscriminantAnalysis()\n",
    "X = mower_df.drop(columns=[\"ownership\"])\n",
    "y = mower_df[\"ownership\"]\n",
    "da_reg.fit(X, y)\n",
    "print(\"Coefficients:\", da_reg.coef_)\n",
    "print(\"Intercept:\", da_reg.intercept_)"
   ]
  },
  {
   "cell_type": "code",
   "execution_count": null,
   "id": "cutting-timer",
   "metadata": {},
   "outputs": [],
   "source": [
    "da_reg = LinearDiscriminantAnalysis()\n",
    "da_reg.fit(X, y)\n",
    "result_df = mower_df.copy()\n",
    "result_df[\"decision_function\"] = da_reg.decision_function(X)\n",
    "result_df[\"prediction\"] = da_reg.predict(X)\n",
    "result_df[\"p(owner)\"] = da_reg.predict_proba(X)[:, 1]\n",
    "result_df.head()"
   ]
  },
  {
   "cell_type": "code",
   "execution_count": null,
   "id": "architectural-optimization",
   "metadata": {},
   "outputs": [],
   "source": [
    "result_df.plot.scatter(x=\"income\", y=\"lot_size\")"
   ]
  },
  {
   "cell_type": "markdown",
   "id": "mysterious-performer",
   "metadata": {},
   "source": [
    "## Classifying more than two classes"
   ]
  },
  {
   "cell_type": "code",
   "execution_count": null,
   "id": "confidential-pollution",
   "metadata": {},
   "outputs": [],
   "source": [
    "accidents_df = pd.read_csv(\"./datasets/dmba/accidents.csv\")\n",
    "normalize_columns(accidents_df)\n",
    "lda_reg = LinearDiscriminantAnalysis()\n",
    "X = accidents_df.drop(columns=[\"max_sev\"])\n",
    "y = accidents_df[\"max_sev\"]\n",
    "lda_reg.fit(X, y)"
   ]
  },
  {
   "cell_type": "code",
   "execution_count": null,
   "id": "baking-tourist",
   "metadata": {},
   "outputs": [],
   "source": [
    "print(\"Coefficients and intercepts\")\n",
    "fct = pd.DataFrame([lda_reg.intercept_], columns=lda_reg.classes_, index=[\"constant\"])\n",
    "fct = fct.append(\n",
    "    pd.DataFrame(\n",
    "        lda_reg.coef_.T, columns=lda_reg.classes_, index=list(accidents_df.columns)[:-1]\n",
    "    ),\n",
    ")\n",
    "fct"
   ]
  },
  {
   "cell_type": "code",
   "execution_count": null,
   "id": "destroyed-biography",
   "metadata": {},
   "outputs": [],
   "source": [
    "classification_summary(y_true=y, y_pred=lda_reg.predict(X))"
   ]
  },
  {
   "cell_type": "markdown",
   "id": "electronic-reunion",
   "metadata": {},
   "source": [
    "## Classification scores, membership probabilities and classifications for three-class injury training dataset"
   ]
  },
  {
   "cell_type": "code",
   "execution_count": null,
   "id": "hidden-brighton",
   "metadata": {},
   "outputs": [],
   "source": [
    "result = pd.concat(\n",
    "    [\n",
    "        pd.DataFrame({\"classification\": lda_reg.predict(X), \"actual\": y}),\n",
    "        pd.DataFrame(\n",
    "            lda_reg.decision_function(X),\n",
    "            columns=[\"Score {}\".format(cls) for cls in lda_reg.classes_],\n",
    "        ),\n",
    "        pd.DataFrame(\n",
    "            lda_reg.predict_proba(X),\n",
    "            columns=[\"Propensity {}\".format(cls) for cls in lda_reg.classes_],\n",
    "        ),\n",
    "    ],\n",
    "    axis=1,\n",
    ")\n",
    "pd.set_option(\"precision\", 2)\n",
    "pd.set_option(\"chop_threshold\", 0.01)\n",
    "print(result.head())"
   ]
  }
 ],
 "metadata": {
  "kernelspec": {
   "display_name": "Python 3 (ipykernel)",
   "language": "python",
   "name": "python3"
  },
  "language_info": {
   "codemirror_mode": {
    "name": "ipython",
    "version": 3
   },
   "file_extension": ".py",
   "mimetype": "text/x-python",
   "name": "python",
   "nbconvert_exporter": "python",
   "pygments_lexer": "ipython3",
   "version": "3.9.14"
  }
 },
 "nbformat": 4,
 "nbformat_minor": 5
}
