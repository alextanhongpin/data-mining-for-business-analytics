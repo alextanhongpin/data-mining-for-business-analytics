{
 "cells": [
  {
   "cell_type": "markdown",
   "id": "civilian-volume",
   "metadata": {},
   "source": [
    "# How to measure performance of regression models\n",
    "\n",
    "- Accuracy (e.g. classification accuracy) is a measure for classification, not regression.\n",
    "- We cannot measure accuracy for regression model\n",
    "- the performance of a regression model must be reported as the errors in those predictions\n",
    "\n",
    "\n",
    "Reference:\n",
    "https://machinelearningmastery.com/regression-metrics-for-machine-learning/"
   ]
  },
  {
   "cell_type": "markdown",
   "id": "patient-cinema",
   "metadata": {},
   "source": [
    "## Mean Squared Error\n",
    "\n",
    "$MSE = \\sum_{i=1}^n(y_i - \\hat{y_i})^2$\n",
    "\n",
    "If the MSE = 0.0, then all predictions match the actual value. Compared to MAE, it is not robust to outliers."
   ]
  },
  {
   "cell_type": "code",
   "execution_count": 15,
   "id": "distinguished-mills",
   "metadata": {},
   "outputs": [],
   "source": [
    "import pandas as pd\n",
    "from sklearn.metrics import mean_squared_error"
   ]
  },
  {
   "cell_type": "code",
   "execution_count": 5,
   "id": "corporate-witness",
   "metadata": {},
   "outputs": [],
   "source": [
    "# real value\n",
    "y_true = [1.0, 1.0, 1.0, 1.0, 1.0, 1.0, 1.0, 1.0, 1.0, 1.0, 1.0]\n",
    "# predicted value\n",
    "y_pred = [1.0, 0.9, 0.8, 0.7, 0.6, 0.5, 0.4, 0.3, 0.2, 0.1, 0.0]"
   ]
  },
  {
   "cell_type": "code",
   "execution_count": 14,
   "id": "elegant-cleanup",
   "metadata": {},
   "outputs": [
    {
     "name": "stdout",
     "output_type": "stream",
     "text": [
      "MSE: 0.35000000000000003\n"
     ]
    }
   ],
   "source": [
    "print(f\"MSE: {mean_squared_error(y_true, y_pred)}\")"
   ]
  },
  {
   "cell_type": "code",
   "execution_count": 13,
   "id": "instrumental-ancient",
   "metadata": {},
   "outputs": [
    {
     "name": "stdout",
     "output_type": "stream",
     "text": [
      "MSE: 0.35000000000000003\n"
     ]
    }
   ],
   "source": [
    "# How to calculate the mean squared error\n",
    "errors = []\n",
    "for i in range(len(y_true)):\n",
    "    errors.append((y_true[i] - y_pred[i]) ** 2)\n",
    "\n",
    "print(f\"MSE: {sum(errors) / len(errors)}\")"
   ]
  },
  {
   "cell_type": "code",
   "execution_count": 22,
   "id": "sublime-halloween",
   "metadata": {},
   "outputs": [
    {
     "data": {
      "text/plain": [
       "Text(0, 0.5, 'MSE')"
      ]
     },
     "execution_count": 22,
     "metadata": {},
     "output_type": "execute_result"
    },
    {
     "data": {
      "image/png": "[encoded data removed]",
      "text/plain": [
       "<Figure size 432x288 with 1 Axes>"
      ]
     },
     "metadata": {
      "needs_background": "light"
     },
     "output_type": "display_data"
    }
   ],
   "source": [
    "df = pd.DataFrame({\"y_true\": y_true, \"y_pred\": y_pred, \"errors\": errors})\n",
    "ax = df.plot(x=\"y_pred\", y=\"errors\")\n",
    "ax.set_xlabel(\"Predicted Value\")\n",
    "ax.set_ylabel(\"MSE\")"
   ]
  },
  {
   "cell_type": "markdown",
   "id": "arranged-norwegian",
   "metadata": {},
   "source": [
    "## Root Mean Squared Error\n",
    "\n",
    "$RMSE = \\sqrt(MSE)$\n",
    "\n",
    "A perfect RMSE is 0.0."
   ]
  },
  {
   "cell_type": "code",
   "execution_count": 23,
   "id": "worldwide-empire",
   "metadata": {},
   "outputs": [],
   "source": [
    "import math"
   ]
  },
  {
   "cell_type": "code",
   "execution_count": 24,
   "id": "professional-trinidad",
   "metadata": {},
   "outputs": [
    {
     "data": {
      "text/plain": [
       "0.5916079783099616"
      ]
     },
     "execution_count": 24,
     "metadata": {},
     "output_type": "execute_result"
    }
   ],
   "source": [
    "math.sqrt(mean_squared_error(y_true, y_pred))"
   ]
  },
  {
   "cell_type": "code",
   "execution_count": 25,
   "id": "honest-deviation",
   "metadata": {},
   "outputs": [
    {
     "data": {
      "text/plain": [
       "0.5916079783099616"
      ]
     },
     "execution_count": 25,
     "metadata": {},
     "output_type": "execute_result"
    }
   ],
   "source": [
    "mean_squared_error(y_true, y_pred, squared=False)"
   ]
  },
  {
   "cell_type": "markdown",
   "id": "large-crawford",
   "metadata": {},
   "source": [
    "# Performance measure for feature selection\n",
    "\n",
    "MSE and $R^2$ are unsuitable for comparing models during feature selection. When adding new features in data the $R^2$ score starts increasing or remains constant but never decreases. The problem is adding irrelevant features could also contribute to the increase of $R^2$.\n",
    "\n",
    "By using the adjusted $R^2$, it is possible to consider both performance and number of features.\n",
    "\n",
    "\n",
    "$R_{adj}^2 = 1 - \\frac{(1 - R^2)(n-1)}{(n-p-1)}$\n",
    "\n",
    "Where\n",
    "- $p$ is the number of predictors\n",
    "- $n$ is the number of observations\n",
    "\n",
    "The intuition behind $R^2$ is the following:\n",
    "\n",
    "- $R_{adj}^{2}$ increases if the numerator decreases, that is, if $R^2$ is large\n",
    "- $R_{adj}^2$ increases if the denominator increases, that is, if $p$ is small\n",
    "\n",
    "\n",
    "\n",
    "$R_{adj}^2$ is especially useful for exhaustive search, stepwise, or backward and forward selection. Use adjusted R-squared to compare the goodness-of-fit for regression models that contain differing numbers of independent variables.\n",
    "\n",
    "Reference: \n",
    "- https://www.datascienceblog.net/post/machine-learning/performance-measures-feature-selection/\n",
    "- http://facweb.cs.depaul.edu/sjost/csc423/documents/model-selection.htm"
   ]
  },
  {
   "cell_type": "markdown",
   "id": "technical-sessions",
   "metadata": {},
   "source": [
    "## What is a Good R-Squared value?\n",
    "\n",
    "- $R^2$ is a measure of how well a linear regression model fits a dataset\n",
    "- $R^2$ is the proportion of variance in the response variable that can be explained by the predictor variable\n",
    "- the value of $R^2$ can range from 0 to 1\n",
    "- a value of 0 indicates that the response variable cannot be explained by the predictor variable at all\n",
    "- a value of 1 indicates that the response variable can be perfectly explained without error by the predictor variable\n",
    "- model performance increases as $R^2$ moves towards 1\n",
    "- an $R^2 = 0.8$ means your model is able to explain 80% of the variance \n",
    "\n",
    "\n",
    "Reference:\n",
    "https://www.statology.org/good-r-squared-value/"
   ]
  },
  {
   "cell_type": "code",
   "execution_count": null,
   "id": "passing-cooling",
   "metadata": {},
   "outputs": [],
   "source": []
  }
 ],
 "metadata": {
  "kernelspec": {
   "display_name": "Python 3 (ipykernel)",
   "language": "python",
   "name": "python3"
  },
  "language_info": {
   "codemirror_mode": {
    "name": "ipython",
    "version": 3
   },
   "file_extension": ".py",
   "mimetype": "text/x-python",
   "name": "python",
   "nbconvert_exporter": "python",
   "pygments_lexer": "ipython3",
   "version": "3.9.14"
  }
 },
 "nbformat": 4,
 "nbformat_minor": 5
}
