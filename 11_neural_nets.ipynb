{
 "cells": [
  {
   "cell_type": "code",
   "execution_count": 1,
   "id": "suspected-blank",
   "metadata": {},
   "outputs": [],
   "source": [
    "import pandas as pd\n",
    "from sklearn.model_selection import train_test_split\n",
    "from sklearn.neural_network import MLPClassifier\n",
    "\n",
    "from metrics import classification_summary\n",
    "from pandas_util import normalize_columns"
   ]
  },
  {
   "cell_type": "code",
   "execution_count": 2,
   "id": "official-vanilla",
   "metadata": {},
   "outputs": [
    {
     "data": {
      "text/plain": [
       "array(['like', 'dislike', 'dislike', 'dislike', 'like', 'like'],\n",
       "      dtype='<U7')"
      ]
     },
     "execution_count": 2,
     "metadata": {},
     "output_type": "execute_result"
    }
   ],
   "source": [
    "df = pd.read_csv(\"./datasets/dmba/TinyData.csv\")\n",
    "\n",
    "predictors = [\"Fat\", \"Salt\"]\n",
    "outcome = \"Acceptance\"\n",
    "\n",
    "X = df[predictors]\n",
    "y = df[outcome]\n",
    "\n",
    "classes = sorted(y.unique())\n",
    "clf = MLPClassifier(\n",
    "    hidden_layer_sizes=(3), activation=\"logistic\", solver=\"lbfgs\", random_state=1\n",
    ")\n",
    "\n",
    "clf.fit(X, y)\n",
    "clf.predict(X)"
   ]
  },
  {
   "cell_type": "code",
   "execution_count": 3,
   "id": "official-sight",
   "metadata": {},
   "outputs": [
    {
     "name": "stdout",
     "output_type": "stream",
     "text": [
      "Intercepts: [array([0.13368045, 4.07247552, 7.00768104]), array([14.30748676])]\n",
      "Weights: [array([[ -1.30656481,  -4.20427792, -13.29587332],\n",
      "       [ -0.04399727,  -4.91606924,  -6.03356987]]), array([[ -0.27348313],\n",
      "       [ -9.01211573],\n",
      "       [-17.63504694]])]\n",
      "   Obs.  Fat  Salt Acceptance   dislike      like\n",
      "0     1  0.2   0.9       like  0.000490  0.999510\n",
      "1     2  0.1   0.1    dislike  0.999994  0.000006\n",
      "2     3  0.2   0.4    dislike  0.999741  0.000259\n",
      "3     4  0.2   0.5    dislike  0.997368  0.002632\n",
      "4     5  0.4   0.5       like  0.002133  0.997867\n",
      "5     6  0.3   0.8       like  0.000075  0.999925\n"
     ]
    }
   ],
   "source": [
    "print(\"Intercepts:\", clf.intercepts_)\n",
    "print(\"Weights:\", clf.coefs_)\n",
    "print(pd.concat([df, pd.DataFrame(clf.predict_proba(X), columns=classes)], axis=1))"
   ]
  },
  {
   "cell_type": "code",
   "execution_count": 4,
   "id": "explicit-concrete",
   "metadata": {},
   "outputs": [
    {
     "name": "stdout",
     "output_type": "stream",
     "text": [
      "Accuracy: 1.0\n",
      "\n",
      "Confusion matrix:\n",
      "[[3 0]\n",
      " [0 3]]\n",
      "\n",
      "Classification report:\n",
      "              precision    recall  f1-score   support\n",
      "\n",
      "     dislike       1.00      1.00      1.00         3\n",
      "        like       1.00      1.00      1.00         3\n",
      "\n",
      "    accuracy                           1.00         6\n",
      "   macro avg       1.00      1.00      1.00         6\n",
      "weighted avg       1.00      1.00      1.00         6\n",
      "\n"
     ]
    }
   ],
   "source": [
    "classification_summary(y_true=y, y_pred=clf.predict(X))"
   ]
  },
  {
   "cell_type": "markdown",
   "id": "special-generator",
   "metadata": {},
   "source": [
    "## Classifying Accident Severity"
   ]
  },
  {
   "cell_type": "code",
   "execution_count": 5,
   "id": "narrow-raising",
   "metadata": {},
   "outputs": [],
   "source": [
    "accidents_df = pd.read_csv(\"./datasets/dmba/accidentsnn.csv\")\n",
    "normalize_columns(accidents_df)"
   ]
  },
  {
   "cell_type": "code",
   "execution_count": 6,
   "id": "documented-raise",
   "metadata": {},
   "outputs": [
    {
     "data": {
      "text/html": [
       "<div>\n",
       "<style scoped>\n",
       "    .dataframe tbody tr th:only-of-type {\n",
       "        vertical-align: middle;\n",
       "    }\n",
       "\n",
       "    .dataframe tbody tr th {\n",
       "        vertical-align: top;\n",
       "    }\n",
       "\n",
       "    .dataframe thead th {\n",
       "        text-align: right;\n",
       "    }\n",
       "</style>\n",
       "<table border=\"1\" class=\"dataframe\">\n",
       "  <thead>\n",
       "    <tr style=\"text-align: right;\">\n",
       "      <th></th>\n",
       "      <th>sur_cond</th>\n",
       "      <th>max_sev_ir</th>\n",
       "    </tr>\n",
       "  </thead>\n",
       "  <tbody>\n",
       "    <tr>\n",
       "      <th>count</th>\n",
       "      <td>999</td>\n",
       "      <td>999</td>\n",
       "    </tr>\n",
       "    <tr>\n",
       "      <th>unique</th>\n",
       "      <td>5</td>\n",
       "      <td>3</td>\n",
       "    </tr>\n",
       "    <tr>\n",
       "      <th>top</th>\n",
       "      <td>1</td>\n",
       "      <td>0</td>\n",
       "    </tr>\n",
       "    <tr>\n",
       "      <th>freq</th>\n",
       "      <td>782</td>\n",
       "      <td>551</td>\n",
       "    </tr>\n",
       "  </tbody>\n",
       "</table>\n",
       "</div>"
      ],
      "text/plain": [
       "        sur_cond  max_sev_ir\n",
       "count        999         999\n",
       "unique         5           3\n",
       "top            1           0\n",
       "freq         782         551"
      ]
     },
     "execution_count": 6,
     "metadata": {},
     "output_type": "execute_result"
    }
   ],
   "source": [
    "accidents_df.sur_cond = accidents_df.sur_cond.astype(\"category\")\n",
    "accidents_df.max_sev_ir = accidents_df.max_sev_ir.astype(\"category\")\n",
    "accidents_df.describe(include=\"category\")"
   ]
  },
  {
   "cell_type": "code",
   "execution_count": 7,
   "id": "wrong-skirt",
   "metadata": {},
   "outputs": [
    {
     "data": {
      "text/html": [
       "<div>\n",
       "<style scoped>\n",
       "    .dataframe tbody tr th:only-of-type {\n",
       "        vertical-align: middle;\n",
       "    }\n",
       "\n",
       "    .dataframe tbody tr th {\n",
       "        vertical-align: top;\n",
       "    }\n",
       "\n",
       "    .dataframe thead th {\n",
       "        text-align: right;\n",
       "    }\n",
       "</style>\n",
       "<table border=\"1\" class=\"dataframe\">\n",
       "  <thead>\n",
       "    <tr style=\"text-align: right;\">\n",
       "      <th></th>\n",
       "      <th>alchl_i</th>\n",
       "      <th>profil_i_r</th>\n",
       "      <th>veh_invl</th>\n",
       "      <th>max_sev_ir</th>\n",
       "      <th>sur_cond_1</th>\n",
       "      <th>sur_cond_2</th>\n",
       "      <th>sur_cond_3</th>\n",
       "      <th>sur_cond_4</th>\n",
       "    </tr>\n",
       "  </thead>\n",
       "  <tbody>\n",
       "    <tr>\n",
       "      <th>0</th>\n",
       "      <td>2</td>\n",
       "      <td>0</td>\n",
       "      <td>1</td>\n",
       "      <td>0</td>\n",
       "      <td>1</td>\n",
       "      <td>0</td>\n",
       "      <td>0</td>\n",
       "      <td>0</td>\n",
       "    </tr>\n",
       "    <tr>\n",
       "      <th>1</th>\n",
       "      <td>2</td>\n",
       "      <td>1</td>\n",
       "      <td>1</td>\n",
       "      <td>2</td>\n",
       "      <td>1</td>\n",
       "      <td>0</td>\n",
       "      <td>0</td>\n",
       "      <td>0</td>\n",
       "    </tr>\n",
       "    <tr>\n",
       "      <th>2</th>\n",
       "      <td>1</td>\n",
       "      <td>0</td>\n",
       "      <td>1</td>\n",
       "      <td>0</td>\n",
       "      <td>1</td>\n",
       "      <td>0</td>\n",
       "      <td>0</td>\n",
       "      <td>0</td>\n",
       "    </tr>\n",
       "    <tr>\n",
       "      <th>3</th>\n",
       "      <td>2</td>\n",
       "      <td>0</td>\n",
       "      <td>2</td>\n",
       "      <td>1</td>\n",
       "      <td>0</td>\n",
       "      <td>1</td>\n",
       "      <td>0</td>\n",
       "      <td>0</td>\n",
       "    </tr>\n",
       "    <tr>\n",
       "      <th>4</th>\n",
       "      <td>2</td>\n",
       "      <td>1</td>\n",
       "      <td>2</td>\n",
       "      <td>1</td>\n",
       "      <td>1</td>\n",
       "      <td>0</td>\n",
       "      <td>0</td>\n",
       "      <td>0</td>\n",
       "    </tr>\n",
       "  </tbody>\n",
       "</table>\n",
       "</div>"
      ],
      "text/plain": [
       "   alchl_i  profil_i_r  veh_invl max_sev_ir  sur_cond_1  sur_cond_2  \\\n",
       "0        2           0         1          0           1           0   \n",
       "1        2           1         1          2           1           0   \n",
       "2        1           0         1          0           1           0   \n",
       "3        2           0         2          1           0           1   \n",
       "4        2           1         2          1           1           0   \n",
       "\n",
       "   sur_cond_3  sur_cond_4  \n",
       "0           0           0  \n",
       "1           0           0  \n",
       "2           0           0  \n",
       "3           0           0  \n",
       "4           0           0  "
      ]
     },
     "execution_count": 7,
     "metadata": {},
     "output_type": "execute_result"
    }
   ],
   "source": [
    "# Convert the categorical data into dummy variables\n",
    "# Exclude the column for sur_cond 9 = unknown\n",
    "processed = pd.get_dummies(accidents_df, columns=[\"sur_cond\"])\n",
    "processed = processed.drop(columns=[\"sur_cond_9\"])\n",
    "processed.head()"
   ]
  },
  {
   "cell_type": "code",
   "execution_count": 8,
   "id": "revolutionary-waterproof",
   "metadata": {},
   "outputs": [],
   "source": [
    "outcome = \"max_sev_ir\"\n",
    "predictors = [c for c in processed.columns if c != outcome]"
   ]
  },
  {
   "cell_type": "code",
   "execution_count": 9,
   "id": "overhead-opportunity",
   "metadata": {},
   "outputs": [],
   "source": [
    "X = processed[predictors]\n",
    "y = processed[outcome]\n",
    "\n",
    "train_X, valid_X, train_y, valid_y = train_test_split(\n",
    "    X, y, test_size=0.4, random_state=1\n",
    ")"
   ]
  },
  {
   "cell_type": "code",
   "execution_count": 10,
   "id": "embedded-collins",
   "metadata": {},
   "outputs": [
    {
     "data": {
      "text/plain": [
       "MLPClassifier(activation='logistic', hidden_layer_sizes=2, random_state=1,\n",
       "              solver='lbfgs')"
      ]
     },
     "execution_count": 10,
     "metadata": {},
     "output_type": "execute_result"
    }
   ],
   "source": [
    "# Train neural network with 2 hidden nodes.\n",
    "clf = MLPClassifier(\n",
    "    hidden_layer_sizes=(2), activation=\"logistic\", solver=\"lbfgs\", random_state=1\n",
    ")\n",
    "clf.fit(train_X, train_y.values)"
   ]
  },
  {
   "cell_type": "code",
   "execution_count": 11,
   "id": "stretch-jenny",
   "metadata": {},
   "outputs": [
    {
     "name": "stdout",
     "output_type": "stream",
     "text": [
      "Accuracy: 0.8664440734557596\n",
      "\n",
      "Confusion matrix:\n",
      "[[331   0   1]\n",
      " [  0 180   0]\n",
      " [ 30  49   8]]\n",
      "\n",
      "Classification report:\n",
      "              precision    recall  f1-score   support\n",
      "\n",
      "           0       0.92      1.00      0.96       332\n",
      "           1       0.79      1.00      0.88       180\n",
      "           2       0.89      0.09      0.17        87\n",
      "\n",
      "    accuracy                           0.87       599\n",
      "   macro avg       0.86      0.70      0.67       599\n",
      "weighted avg       0.87      0.87      0.82       599\n",
      "\n"
     ]
    }
   ],
   "source": [
    "# Training performance (use idmax to revert to one-hot encoding)\n",
    "classification_summary(y_true=train_y, y_pred=clf.predict(train_X))"
   ]
  },
  {
   "cell_type": "code",
   "execution_count": 12,
   "id": "finnish-enclosure",
   "metadata": {},
   "outputs": [
    {
     "name": "stdout",
     "output_type": "stream",
     "text": [
      "Accuracy: 0.855\n",
      "\n",
      "Confusion matrix:\n",
      "[[218   0   1]\n",
      " [  0 119   0]\n",
      " [ 24  33   5]]\n",
      "\n",
      "Classification report:\n",
      "              precision    recall  f1-score   support\n",
      "\n",
      "           0       0.90      1.00      0.95       219\n",
      "           1       0.78      1.00      0.88       119\n",
      "           2       0.83      0.08      0.15        62\n",
      "\n",
      "    accuracy                           0.85       400\n",
      "   macro avg       0.84      0.69      0.66       400\n",
      "weighted avg       0.86      0.85      0.80       400\n",
      "\n"
     ]
    }
   ],
   "source": [
    "classification_summary(y_true=valid_y, y_pred=clf.predict(valid_X))"
   ]
  }
 ],
 "metadata": {
  "kernelspec": {
   "display_name": "Python 3 (ipykernel)",
   "language": "python",
   "name": "python3"
  },
  "language_info": {
   "codemirror_mode": {
    "name": "ipython",
    "version": 3
   },
   "file_extension": ".py",
   "mimetype": "text/x-python",
   "name": "python",
   "nbconvert_exporter": "python",
   "pygments_lexer": "ipython3",
   "version": "3.9.14"
  }
 },
 "nbformat": 4,
 "nbformat_minor": 5
}
