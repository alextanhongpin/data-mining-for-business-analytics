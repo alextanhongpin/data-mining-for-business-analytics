{
 "cells": [
  {
   "cell_type": "code",
   "execution_count": 1,
   "id": "nuclear-textbook",
   "metadata": {},
   "outputs": [],
   "source": [
    "# !pip install scikit-plot"
   ]
  },
  {
   "cell_type": "code",
   "execution_count": 2,
   "id": "minus-major",
   "metadata": {},
   "outputs": [],
   "source": [
    "import math\n",
    "\n",
    "import matplotlib.pylab as plt\n",
    "import pandas as pd\n",
    "\n",
    "# from scikitplot.metrics import plot_cumulative_gain, plot_lift_curve\n",
    "from sklearn import metrics\n",
    "from sklearn.linear_model import LinearRegression\n",
    "from sklearn.metrics import (\n",
    "    ConfusionMatrixDisplay,\n",
    "    accuracy_score,\n",
    "    auc,\n",
    "    classification_report,\n",
    "    confusion_matrix,\n",
    "    roc_curve,\n",
    ")\n",
    "from sklearn.model_selection import train_test_split\n",
    "\n",
    "from pandas_util import gains_chart, lift_chart, normalize_columns"
   ]
  },
  {
   "cell_type": "markdown",
   "id": "chemical-thursday",
   "metadata": {},
   "source": [
    "## Prediction error metrics from a model for Toyota car prices. Training and validation"
   ]
  },
  {
   "cell_type": "code",
   "execution_count": 3,
   "id": "checked-advance",
   "metadata": {},
   "outputs": [
    {
     "data": {
      "text/html": [
       "<div>\n",
       "<style scoped>\n",
       "    .dataframe tbody tr th:only-of-type {\n",
       "        vertical-align: middle;\n",
       "    }\n",
       "\n",
       "    .dataframe tbody tr th {\n",
       "        vertical-align: top;\n",
       "    }\n",
       "\n",
       "    .dataframe thead th {\n",
       "        text-align: right;\n",
       "    }\n",
       "</style>\n",
       "<table border=\"1\" class=\"dataframe\">\n",
       "  <thead>\n",
       "    <tr style=\"text-align: right;\">\n",
       "      <th></th>\n",
       "      <th>id</th>\n",
       "      <th>model</th>\n",
       "      <th>price</th>\n",
       "      <th>age_08_04</th>\n",
       "      <th>mfg_month</th>\n",
       "      <th>mfg_year</th>\n",
       "      <th>km</th>\n",
       "      <th>fuel_type</th>\n",
       "      <th>hp</th>\n",
       "      <th>met_color</th>\n",
       "      <th>...</th>\n",
       "      <th>powered_windows</th>\n",
       "      <th>power_steering</th>\n",
       "      <th>radio</th>\n",
       "      <th>mistlamps</th>\n",
       "      <th>sport_model</th>\n",
       "      <th>backseat_divider</th>\n",
       "      <th>metallic_rim</th>\n",
       "      <th>radio_cassette</th>\n",
       "      <th>parking_assistant</th>\n",
       "      <th>tow_bar</th>\n",
       "    </tr>\n",
       "  </thead>\n",
       "  <tbody>\n",
       "    <tr>\n",
       "      <th>588</th>\n",
       "      <td>592</td>\n",
       "      <td>TOYOTA Corolla 1.4 HB LINEA TERRA 2/3-Doors</td>\n",
       "      <td>9950</td>\n",
       "      <td>48</td>\n",
       "      <td>9</td>\n",
       "      <td>2000</td>\n",
       "      <td>28656</td>\n",
       "      <td>Petrol</td>\n",
       "      <td>97</td>\n",
       "      <td>0</td>\n",
       "      <td>...</td>\n",
       "      <td>0</td>\n",
       "      <td>1</td>\n",
       "      <td>0</td>\n",
       "      <td>0</td>\n",
       "      <td>0</td>\n",
       "      <td>0</td>\n",
       "      <td>0</td>\n",
       "      <td>0</td>\n",
       "      <td>0</td>\n",
       "      <td>0</td>\n",
       "    </tr>\n",
       "    <tr>\n",
       "      <th>1291</th>\n",
       "      <td>1298</td>\n",
       "      <td>TOYOTA Corolla 1.6 16V HATCHB LINEA LUNA 2/3-D...</td>\n",
       "      <td>7950</td>\n",
       "      <td>78</td>\n",
       "      <td>3</td>\n",
       "      <td>1998</td>\n",
       "      <td>72000</td>\n",
       "      <td>Petrol</td>\n",
       "      <td>110</td>\n",
       "      <td>0</td>\n",
       "      <td>...</td>\n",
       "      <td>1</td>\n",
       "      <td>1</td>\n",
       "      <td>0</td>\n",
       "      <td>1</td>\n",
       "      <td>0</td>\n",
       "      <td>1</td>\n",
       "      <td>0</td>\n",
       "      <td>0</td>\n",
       "      <td>0</td>\n",
       "      <td>0</td>\n",
       "    </tr>\n",
       "    <tr>\n",
       "      <th>133</th>\n",
       "      <td>135</td>\n",
       "      <td>TOYOTA Corolla 1 6-16v VVT-i Linea Terra Comfo...</td>\n",
       "      <td>15950</td>\n",
       "      <td>13</td>\n",
       "      <td>8</td>\n",
       "      <td>2003</td>\n",
       "      <td>29371</td>\n",
       "      <td>Petrol</td>\n",
       "      <td>110</td>\n",
       "      <td>1</td>\n",
       "      <td>...</td>\n",
       "      <td>1</td>\n",
       "      <td>1</td>\n",
       "      <td>0</td>\n",
       "      <td>0</td>\n",
       "      <td>0</td>\n",
       "      <td>0</td>\n",
       "      <td>0</td>\n",
       "      <td>0</td>\n",
       "      <td>0</td>\n",
       "      <td>0</td>\n",
       "    </tr>\n",
       "    <tr>\n",
       "      <th>686</th>\n",
       "      <td>690</td>\n",
       "      <td>TOYOTA Corolla 1.6 16V LIFTB LINEA LUNA 4/5-Doors</td>\n",
       "      <td>8950</td>\n",
       "      <td>65</td>\n",
       "      <td>4</td>\n",
       "      <td>1999</td>\n",
       "      <td>100550</td>\n",
       "      <td>Petrol</td>\n",
       "      <td>110</td>\n",
       "      <td>1</td>\n",
       "      <td>...</td>\n",
       "      <td>1</td>\n",
       "      <td>1</td>\n",
       "      <td>0</td>\n",
       "      <td>1</td>\n",
       "      <td>0</td>\n",
       "      <td>1</td>\n",
       "      <td>1</td>\n",
       "      <td>0</td>\n",
       "      <td>0</td>\n",
       "      <td>1</td>\n",
       "    </tr>\n",
       "    <tr>\n",
       "      <th>399</th>\n",
       "      <td>402</td>\n",
       "      <td>TOYOTA Corolla 1.6 16V VVT I SEDAN TERRA 4/5-D...</td>\n",
       "      <td>10750</td>\n",
       "      <td>54</td>\n",
       "      <td>3</td>\n",
       "      <td>2000</td>\n",
       "      <td>115558</td>\n",
       "      <td>Petrol</td>\n",
       "      <td>110</td>\n",
       "      <td>1</td>\n",
       "      <td>...</td>\n",
       "      <td>1</td>\n",
       "      <td>1</td>\n",
       "      <td>1</td>\n",
       "      <td>1</td>\n",
       "      <td>0</td>\n",
       "      <td>1</td>\n",
       "      <td>0</td>\n",
       "      <td>1</td>\n",
       "      <td>0</td>\n",
       "      <td>1</td>\n",
       "    </tr>\n",
       "  </tbody>\n",
       "</table>\n",
       "<p>5 rows × 39 columns</p>\n",
       "</div>"
      ],
      "text/plain": [
       "        id                                              model  price  \\\n",
       "588    592        TOYOTA Corolla 1.4 HB LINEA TERRA 2/3-Doors   9950   \n",
       "1291  1298  TOYOTA Corolla 1.6 16V HATCHB LINEA LUNA 2/3-D...   7950   \n",
       "133    135  TOYOTA Corolla 1 6-16v VVT-i Linea Terra Comfo...  15950   \n",
       "686    690  TOYOTA Corolla 1.6 16V LIFTB LINEA LUNA 4/5-Doors   8950   \n",
       "399    402  TOYOTA Corolla 1.6 16V VVT I SEDAN TERRA 4/5-D...  10750   \n",
       "\n",
       "      age_08_04  mfg_month  mfg_year      km fuel_type   hp  met_color  ...  \\\n",
       "588          48          9      2000   28656    Petrol   97          0  ...   \n",
       "1291         78          3      1998   72000    Petrol  110          0  ...   \n",
       "133          13          8      2003   29371    Petrol  110          1  ...   \n",
       "686          65          4      1999  100550    Petrol  110          1  ...   \n",
       "399          54          3      2000  115558    Petrol  110          1  ...   \n",
       "\n",
       "     powered_windows  power_steering  radio  mistlamps  sport_model  \\\n",
       "588                0               1      0          0            0   \n",
       "1291               1               1      0          1            0   \n",
       "133                1               1      0          0            0   \n",
       "686                1               1      0          1            0   \n",
       "399                1               1      1          1            0   \n",
       "\n",
       "      backseat_divider  metallic_rim  radio_cassette  parking_assistant  \\\n",
       "588                  0             0               0                  0   \n",
       "1291                 1             0               0                  0   \n",
       "133                  0             0               0                  0   \n",
       "686                  1             1               0                  0   \n",
       "399                  1             0               1                  0   \n",
       "\n",
       "      tow_bar  \n",
       "588         0  \n",
       "1291        0  \n",
       "133         0  \n",
       "686         1  \n",
       "399         1  \n",
       "\n",
       "[5 rows x 39 columns]"
      ]
     },
     "execution_count": 3,
     "metadata": {},
     "output_type": "execute_result"
    }
   ],
   "source": [
    "# Reduce data frame to the top 1000 rows and select columns for regression analysis.\n",
    "car_df = pd.read_csv(\"./datasets/dmba/ToyotaCorolla.csv\")\n",
    "normalize_columns(car_df)\n",
    "car_df.sample(5)"
   ]
  },
  {
   "cell_type": "code",
   "execution_count": 4,
   "id": "worse-kitchen",
   "metadata": {},
   "outputs": [],
   "source": [
    "# Create a list of predictor variables by removing output variables and text columns\n",
    "exclude_columns = \"price id model fuel_type color\".split()\n",
    "predictors = [s for s in car_df.columns if s not in exclude_columns]\n",
    "outcome = \"price\""
   ]
  },
  {
   "cell_type": "code",
   "execution_count": 5,
   "id": "facial-motor",
   "metadata": {},
   "outputs": [],
   "source": [
    "# Partition data.\n",
    "X = car_df[predictors]\n",
    "y = car_df[outcome]\n",
    "train_X, valid_X, train_y, valid_y = train_test_split(\n",
    "    X, y, test_size=0.4, random_state=1\n",
    ")"
   ]
  },
  {
   "cell_type": "code",
   "execution_count": 6,
   "id": "instructional-miami",
   "metadata": {},
   "outputs": [
    {
     "data": {
      "text/plain": [
       "{'Root mean squared error (RMSE)': 1256776.8345910097,\n",
       " 'Mean absolute error (MAE)': 811.6770003906788,\n",
       " 'Max error': 6679.952359929979}"
      ]
     },
     "execution_count": 6,
     "metadata": {},
     "output_type": "execute_result"
    }
   ],
   "source": [
    "# Train linear regression model\n",
    "reg = LinearRegression()\n",
    "reg.fit(train_X, train_y)\n",
    "\n",
    "# Evaluate performance\n",
    "# Training\n",
    "def regression_summary(y_true, y_pred):\n",
    "    return {\n",
    "        \"Root mean squared error (RMSE)\": metrics.mean_squared_error(y_true, y_pred),\n",
    "        \"Mean absolute error (MAE)\": metrics.mean_absolute_error(y_true, y_pred),\n",
    "        \"Max error\": metrics.max_error(y_true, y_pred),\n",
    "    }\n",
    "\n",
    "\n",
    "regression_summary(train_y, reg.predict(train_X))"
   ]
  },
  {
   "cell_type": "code",
   "execution_count": 7,
   "id": "sapphire-significance",
   "metadata": {},
   "outputs": [
    {
     "data": {
      "text/plain": [
       "{'Root mean squared error (RMSE)': 1910021.3911752158,\n",
       " 'Mean absolute error (MAE)': 880.1396340851031,\n",
       " 'Max error': 19983.225248097442}"
      ]
     },
     "execution_count": 7,
     "metadata": {},
     "output_type": "execute_result"
    }
   ],
   "source": [
    "regression_summary(valid_y, reg.predict(valid_X))"
   ]
  },
  {
   "cell_type": "code",
   "execution_count": 8,
   "id": "dangerous-equipment",
   "metadata": {},
   "outputs": [
    {
     "data": {
      "text/plain": [
       "<AxesSubplot:title={'center':'residual'}, xlabel='[data set]'>"
      ]
     },
     "execution_count": 8,
     "metadata": {},
     "output_type": "execute_result"
    },
    {
     "data": {
      "image/png": "[encoded data removed]",
      "text/plain": [
       "<Figure size 1152x648 with 3 Axes>"
      ]
     },
     "metadata": {
      "needs_background": "light"
     },
     "output_type": "display_data"
    }
   ],
   "source": [
    "pred_error_train = pd.DataFrame(\n",
    "    {\"residual\": train_y - reg.predict(train_X), \"data set\": \"training\"}\n",
    ")\n",
    "pred_error_valid = pd.DataFrame(\n",
    "    {\"residual\": valid_y - reg.predict(valid_X), \"data set\": \"validation\"}\n",
    ")\n",
    "boxdata_df = pred_error_train.append(pred_error_valid, ignore_index=True)\n",
    "fig, axes = plt.subplots(nrows=1, ncols=3)\n",
    "fig.set_size_inches(16, 9)\n",
    "common = {\"bins\": 100, \"range\": [-6500, 6500]}\n",
    "pred_error_train.hist(ax=axes[0], **common)\n",
    "pred_error_valid.hist(ax=axes[1], **common)\n",
    "boxdata_df.boxplot(ax=axes[2], by=\"data set\")"
   ]
  },
  {
   "cell_type": "code",
   "execution_count": 9,
   "id": "sought-providence",
   "metadata": {},
   "outputs": [],
   "source": [
    "# Histograms and boxplots of Toyota price prediction errors, for training and validation sets."
   ]
  },
  {
   "cell_type": "markdown",
   "id": "material-montgomery",
   "metadata": {},
   "source": [
    "## Gain and lift charts\n",
    "\n",
    "\n",
    "Gain and lift charts are visual aid for evaluating performance of classification models.\n",
    "\n",
    "\n",
    "How does it differ from confusion matrix?\n",
    "- confusion matrix: evaluates the overall population\n",
    "- gain and lift chart: evaluates model performance in a portion of the population\n",
    "\n",
    "In short, we evaluate the model in terms of benefit we could get using the model in a portion of the population.\n",
    "\n",
    "\n",
    "Reference:\n",
    "1.  https://towardsdatascience.com/model-benefit-evaluation-with-lift-and-gain-analysis-4b69f9288ab3#:~:text=Gain%20and%20lift%20charts%20are,a%20portion%20of%20the%20population.\n",
    "2. http://www2.cs.uregina.ca/~dbd/cs831/notes/lift_chart/lift_chart.html\n",
    "3. https://www.geeksforgeeks.org/understanding-gain-chart-and-lift-chart/\n",
    "4. https://www.listendata.com/2014/08/excel-template-gain-and-lift-charts.html\n",
    "5. https://select-statistics.co.uk/blog/cumulative-gains-and-lift-curves-measuring-the-performance-of-a-marketing-campaign/"
   ]
  },
  {
   "cell_type": "code",
   "execution_count": 10,
   "id": "representative-prefix",
   "metadata": {},
   "outputs": [
    {
     "data": {
      "text/plain": [
       "(array([0, 0, 0, 1, 1, 1, 2, 2, 2]), array([0, 0, 0, 0, 0, 1, 1, 2, 2]))"
      ]
     },
     "execution_count": 10,
     "metadata": {},
     "output_type": "execute_result"
    }
   ],
   "source": [
    "# Difference between pd.qcut and pd.cut\n",
    "# pd.cut partition equally by values\n",
    "# pd.qcut partition equally by dataset\n",
    "\n",
    "numbers = [\n",
    "    1,\n",
    "    1,\n",
    "    1,\n",
    "    2,\n",
    "    2,\n",
    "    3,\n",
    "    4,\n",
    "    5,\n",
    "    6,\n",
    "]\n",
    "pd.qcut(numbers, 3, labels=False), pd.cut(numbers, 3, labels=False)"
   ]
  },
  {
   "cell_type": "code",
   "execution_count": 11,
   "id": "legitimate-paste",
   "metadata": {},
   "outputs": [
    {
     "data": {
      "text/html": [
       "<div>\n",
       "<style scoped>\n",
       "    .dataframe tbody tr th:only-of-type {\n",
       "        vertical-align: middle;\n",
       "    }\n",
       "\n",
       "    .dataframe tbody tr th {\n",
       "        vertical-align: top;\n",
       "    }\n",
       "\n",
       "    .dataframe thead th {\n",
       "        text-align: right;\n",
       "    }\n",
       "</style>\n",
       "<table border=\"1\" class=\"dataframe\">\n",
       "  <thead>\n",
       "    <tr style=\"text-align: right;\">\n",
       "      <th></th>\n",
       "      <th>decile</th>\n",
       "      <th>pred</th>\n",
       "      <th>count</th>\n",
       "      <th>decile_percent</th>\n",
       "      <th>cumulative</th>\n",
       "      <th>gain</th>\n",
       "      <th>lift</th>\n",
       "    </tr>\n",
       "  </thead>\n",
       "  <tbody>\n",
       "    <tr>\n",
       "      <th>9</th>\n",
       "      <td>1</td>\n",
       "      <td>18514.313292</td>\n",
       "      <td>58</td>\n",
       "      <td>10</td>\n",
       "      <td>18514.313292</td>\n",
       "      <td>17.523277</td>\n",
       "      <td>1.752328</td>\n",
       "    </tr>\n",
       "    <tr>\n",
       "      <th>8</th>\n",
       "      <td>2</td>\n",
       "      <td>13551.618082</td>\n",
       "      <td>57</td>\n",
       "      <td>20</td>\n",
       "      <td>32065.931373</td>\n",
       "      <td>30.349502</td>\n",
       "      <td>1.517475</td>\n",
       "    </tr>\n",
       "    <tr>\n",
       "      <th>7</th>\n",
       "      <td>3</td>\n",
       "      <td>11923.397035</td>\n",
       "      <td>58</td>\n",
       "      <td>30</td>\n",
       "      <td>43989.328408</td>\n",
       "      <td>41.634662</td>\n",
       "      <td>1.387822</td>\n",
       "    </tr>\n",
       "    <tr>\n",
       "      <th>6</th>\n",
       "      <td>4</td>\n",
       "      <td>10778.656149</td>\n",
       "      <td>57</td>\n",
       "      <td>40</td>\n",
       "      <td>54767.984557</td>\n",
       "      <td>51.836357</td>\n",
       "      <td>1.295909</td>\n",
       "    </tr>\n",
       "    <tr>\n",
       "      <th>5</th>\n",
       "      <td>5</td>\n",
       "      <td>10191.693253</td>\n",
       "      <td>57</td>\n",
       "      <td>50</td>\n",
       "      <td>64959.677810</td>\n",
       "      <td>61.482508</td>\n",
       "      <td>1.229650</td>\n",
       "    </tr>\n",
       "    <tr>\n",
       "      <th>4</th>\n",
       "      <td>6</td>\n",
       "      <td>9587.440873</td>\n",
       "      <td>58</td>\n",
       "      <td>60</td>\n",
       "      <td>74547.118683</td>\n",
       "      <td>70.556751</td>\n",
       "      <td>1.175946</td>\n",
       "    </tr>\n",
       "    <tr>\n",
       "      <th>3</th>\n",
       "      <td>7</td>\n",
       "      <td>8917.324345</td>\n",
       "      <td>57</td>\n",
       "      <td>70</td>\n",
       "      <td>83464.443028</td>\n",
       "      <td>78.996748</td>\n",
       "      <td>1.128525</td>\n",
       "    </tr>\n",
       "    <tr>\n",
       "      <th>2</th>\n",
       "      <td>8</td>\n",
       "      <td>8253.960950</td>\n",
       "      <td>58</td>\n",
       "      <td>80</td>\n",
       "      <td>91718.403978</td>\n",
       "      <td>86.808890</td>\n",
       "      <td>1.085111</td>\n",
       "    </tr>\n",
       "    <tr>\n",
       "      <th>1</th>\n",
       "      <td>9</td>\n",
       "      <td>7547.928830</td>\n",
       "      <td>57</td>\n",
       "      <td>90</td>\n",
       "      <td>99266.332808</td>\n",
       "      <td>93.952792</td>\n",
       "      <td>1.043920</td>\n",
       "    </tr>\n",
       "    <tr>\n",
       "      <th>0</th>\n",
       "      <td>10</td>\n",
       "      <td>6389.210578</td>\n",
       "      <td>58</td>\n",
       "      <td>100</td>\n",
       "      <td>105655.543386</td>\n",
       "      <td>100.000000</td>\n",
       "      <td>1.000000</td>\n",
       "    </tr>\n",
       "  </tbody>\n",
       "</table>\n",
       "</div>"
      ],
      "text/plain": [
       "  decile          pred  count  decile_percent     cumulative        gain  \\\n",
       "9      1  18514.313292     58              10   18514.313292   17.523277   \n",
       "8      2  13551.618082     57              20   32065.931373   30.349502   \n",
       "7      3  11923.397035     58              30   43989.328408   41.634662   \n",
       "6      4  10778.656149     57              40   54767.984557   51.836357   \n",
       "5      5  10191.693253     57              50   64959.677810   61.482508   \n",
       "4      6   9587.440873     58              60   74547.118683   70.556751   \n",
       "3      7   8917.324345     57              70   83464.443028   78.996748   \n",
       "2      8   8253.960950     58              80   91718.403978   86.808890   \n",
       "1      9   7547.928830     57              90   99266.332808   93.952792   \n",
       "0     10   6389.210578     58             100  105655.543386  100.000000   \n",
       "\n",
       "       lift  \n",
       "9  1.752328  \n",
       "8  1.517475  \n",
       "7  1.387822  \n",
       "6  1.295909  \n",
       "5  1.229650  \n",
       "4  1.175946  \n",
       "3  1.128525  \n",
       "2  1.085111  \n",
       "1  1.043920  \n",
       "0  1.000000  "
      ]
     },
     "execution_count": 11,
     "metadata": {},
     "output_type": "execute_result"
    }
   ],
   "source": [
    "pred_df = pd.DataFrame(reg.predict(valid_X), columns=[\"y_pred\"], index=valid_X.index)\n",
    "pred_df.sort_values(by=\"y_pred\", ascending=False, inplace=True)\n",
    "\n",
    "# Divide the data into deciles: divide the data into 10 sets and label it.\n",
    "# qcut bins the data into different group. However, the largest values will be labelled decile 10 instead of 1, that is why we inverse the range.\n",
    "pred_df[\"decile\"] = pd.qcut(pred_df.y_pred, 10, labels=[i for i in range(10, 0, -1)])\n",
    "lift_df = (\n",
    "    pred_df.groupby(\"decile\")\n",
    "    .y_pred.agg(pred=(\"mean\"), count=(\"count\"))\n",
    "    .reset_index()\n",
    "    .sort_values(\"decile\", ascending=False)\n",
    ")\n",
    "lift_df[\"decile_percent\"] = lift_df.decile.astype(int) * 10\n",
    "lift_df[\"cumulative\"] = lift_df.pred.cumsum()\n",
    "lift_df[\"gain\"] = lift_df.cumulative / lift_df.cumulative.max() * 100\n",
    "lift_df[\"lift\"] = lift_df.gain / lift_df.decile_percent\n",
    "lift_df"
   ]
  },
  {
   "cell_type": "code",
   "execution_count": 12,
   "id": "based-civilization",
   "metadata": {},
   "outputs": [
    {
     "data": {
      "text/plain": [
       "Text(0.5, 1.0, 'Gain Chart')"
      ]
     },
     "execution_count": 12,
     "metadata": {},
     "output_type": "execute_result"
    },
    {
     "data": {
      "image/png": "[encoded data removed]",
      "text/plain": [
       "<Figure size 432x288 with 1 Axes>"
      ]
     },
     "metadata": {
      "needs_background": "light"
     },
     "output_type": "display_data"
    }
   ],
   "source": [
    "ax = lift_df.plot(x=\"decile\", y=[\"gain\", \"decile_percent\"])\n",
    "ax.legend([\"gain\", \"baseline\"])\n",
    "plt.title(\"Gain Chart\")"
   ]
  },
  {
   "cell_type": "code",
   "execution_count": 13,
   "id": "planned-lawsuit",
   "metadata": {},
   "outputs": [
    {
     "data": {
      "text/plain": [
       "Text(0.5, 1.0, 'Lift Chart')"
      ]
     },
     "execution_count": 13,
     "metadata": {},
     "output_type": "execute_result"
    },
    {
     "data": {
      "image/png": "[encoded data removed]",
      "text/plain": [
       "<Figure size 432x288 with 1 Axes>"
      ]
     },
     "metadata": {
      "needs_background": "light"
     },
     "output_type": "display_data"
    }
   ],
   "source": [
    "ax = lift_df.plot.bar(x=\"decile\", y=\"lift\")\n",
    "ax.set_ylim(1)  # Start from 1\n",
    "plt.title(\"Lift Chart\")"
   ]
  },
  {
   "cell_type": "code",
   "execution_count": 14,
   "id": "quality-remedy",
   "metadata": {},
   "outputs": [
    {
     "data": {
      "image/png": "[encoded data removed]",
      "text/plain": [
       "<Figure size 432x288 with 2 Axes>"
      ]
     },
     "metadata": {
      "needs_background": "light"
     },
     "output_type": "display_data"
    }
   ],
   "source": [
    "pred_v = pd.Series(reg.predict(valid_X))\n",
    "pred_v = pred_v.sort_values(ascending=False)\n",
    "\n",
    "fig, axes = plt.subplots(nrows=1, ncols=2)\n",
    "ax = gains_chart(pred_v, ax=axes[0])\n",
    "ax.set_ylabel(\"Cumulative Price\")\n",
    "ax.set_title(\"Cumulative Gains Chart\")\n",
    "\n",
    "ax = lift_chart(pred_v, ax=axes[1], labelBars=False)\n",
    "ax.set_ylabel(\"Lift\")\n",
    "\n",
    "plt.tight_layout()"
   ]
  },
  {
   "cell_type": "markdown",
   "id": "three-exploration",
   "metadata": {},
   "source": [
    "## Confusion matrix based on cutoffs of 0.5, 0.25 and 0.75 "
   ]
  },
  {
   "cell_type": "code",
   "execution_count": 15,
   "id": "passing-funds",
   "metadata": {},
   "outputs": [
    {
     "data": {
      "text/html": [
       "<div>\n",
       "<style scoped>\n",
       "    .dataframe tbody tr th:only-of-type {\n",
       "        vertical-align: middle;\n",
       "    }\n",
       "\n",
       "    .dataframe tbody tr th {\n",
       "        vertical-align: top;\n",
       "    }\n",
       "\n",
       "    .dataframe thead th {\n",
       "        text-align: right;\n",
       "    }\n",
       "</style>\n",
       "<table border=\"1\" class=\"dataframe\">\n",
       "  <thead>\n",
       "    <tr style=\"text-align: right;\">\n",
       "      <th></th>\n",
       "      <th>Class</th>\n",
       "      <th>Probability</th>\n",
       "    </tr>\n",
       "  </thead>\n",
       "  <tbody>\n",
       "    <tr>\n",
       "      <th>0</th>\n",
       "      <td>owner</td>\n",
       "      <td>0.9959</td>\n",
       "    </tr>\n",
       "    <tr>\n",
       "      <th>1</th>\n",
       "      <td>owner</td>\n",
       "      <td>0.9875</td>\n",
       "    </tr>\n",
       "    <tr>\n",
       "      <th>2</th>\n",
       "      <td>owner</td>\n",
       "      <td>0.9844</td>\n",
       "    </tr>\n",
       "    <tr>\n",
       "      <th>3</th>\n",
       "      <td>owner</td>\n",
       "      <td>0.9804</td>\n",
       "    </tr>\n",
       "    <tr>\n",
       "      <th>4</th>\n",
       "      <td>owner</td>\n",
       "      <td>0.9481</td>\n",
       "    </tr>\n",
       "  </tbody>\n",
       "</table>\n",
       "</div>"
      ],
      "text/plain": [
       "   Class  Probability\n",
       "0  owner       0.9959\n",
       "1  owner       0.9875\n",
       "2  owner       0.9844\n",
       "3  owner       0.9804\n",
       "4  owner       0.9481"
      ]
     },
     "execution_count": 15,
     "metadata": {},
     "output_type": "execute_result"
    }
   ],
   "source": [
    "owner_df = pd.read_csv(\"./datasets/dmba/ownerExample.csv\")\n",
    "owner_df.head()"
   ]
  },
  {
   "cell_type": "code",
   "execution_count": 16,
   "id": "western-pharmacology",
   "metadata": {},
   "outputs": [],
   "source": [
    "def classify(cutoff):\n",
    "    predicted = [\"owner\" if p > cutoff else \"nonowner\" for p in owner_df.Probability]\n",
    "    print(\n",
    "        classification_report(\n",
    "            predicted, owner_df.Class, target_names=[\"nonowner\", \"owner\"]\n",
    "        )\n",
    "    )\n",
    "    disp = ConfusionMatrixDisplay(\n",
    "        confusion_matrix(predicted, owner_df.Class),\n",
    "        display_labels=[\"nonowner\", \"owner\"],\n",
    "    )\n",
    "    disp.plot()"
   ]
  },
  {
   "cell_type": "code",
   "execution_count": 17,
   "id": "ultimate-bidding",
   "metadata": {},
   "outputs": [
    {
     "name": "stdout",
     "output_type": "stream",
     "text": [
      "              precision    recall  f1-score   support\n",
      "\n",
      "    nonowner       0.83      0.91      0.87        11\n",
      "       owner       0.92      0.85      0.88        13\n",
      "\n",
      "    accuracy                           0.88        24\n",
      "   macro avg       0.88      0.88      0.87        24\n",
      "weighted avg       0.88      0.88      0.88        24\n",
      "\n"
     ]
    },
    {
     "data": {
      "image/png": "[encoded data removed]",
      "text/plain": [
       "<Figure size 432x288 with 2 Axes>"
      ]
     },
     "metadata": {
      "needs_background": "light"
     },
     "output_type": "display_data"
    }
   ],
   "source": [
    "classify(0.5)"
   ]
  },
  {
   "cell_type": "code",
   "execution_count": 18,
   "id": "cutting-brighton",
   "metadata": {},
   "outputs": [
    {
     "name": "stdout",
     "output_type": "stream",
     "text": [
      "              precision    recall  f1-score   support\n",
      "\n",
      "    nonowner       0.67      0.89      0.76         9\n",
      "       owner       0.92      0.73      0.81        15\n",
      "\n",
      "    accuracy                           0.79        24\n",
      "   macro avg       0.79      0.81      0.79        24\n",
      "weighted avg       0.82      0.79      0.79        24\n",
      "\n"
     ]
    },
    {
     "data": {
      "image/png": "[encoded data removed]",
      "text/plain": [
       "<Figure size 432x288 with 2 Axes>"
      ]
     },
     "metadata": {
      "needs_background": "light"
     },
     "output_type": "display_data"
    }
   ],
   "source": [
    "classify(0.25)"
   ]
  },
  {
   "cell_type": "code",
   "execution_count": 19,
   "id": "future-republic",
   "metadata": {},
   "outputs": [
    {
     "name": "stdout",
     "output_type": "stream",
     "text": [
      "              precision    recall  f1-score   support\n",
      "\n",
      "    nonowner       0.92      0.69      0.79        16\n",
      "       owner       0.58      0.88      0.70         8\n",
      "\n",
      "    accuracy                           0.75        24\n",
      "   macro avg       0.75      0.78      0.74        24\n",
      "weighted avg       0.81      0.75      0.76        24\n",
      "\n"
     ]
    },
    {
     "data": {
      "image/png": "[encoded data removed]",
      "text/plain": [
       "<Figure size 432x288 with 2 Axes>"
      ]
     },
     "metadata": {
      "needs_background": "light"
     },
     "output_type": "display_data"
    }
   ],
   "source": [
    "classify(0.75)"
   ]
  },
  {
   "cell_type": "code",
   "execution_count": 20,
   "id": "animated-property",
   "metadata": {},
   "outputs": [
    {
     "data": {
      "text/plain": [
       "<matplotlib.legend.Legend at 0x125851b20>"
      ]
     },
     "execution_count": 20,
     "metadata": {},
     "output_type": "execute_result"
    },
    {
     "data": {
      "image/png": "[encoded data removed]",
      "text/plain": [
       "<Figure size 432x288 with 1 Axes>"
      ]
     },
     "metadata": {
      "needs_background": "light"
     },
     "output_type": "display_data"
    }
   ],
   "source": [
    "# Plotting accuracy and overall error as a function of the cutoff value (riding mowers example)\n",
    "\n",
    "df = pd.read_csv(\"./datasets/dmba/liftExample.csv\")\n",
    "cutoffs = [i * 0.1 for i in range(11)]\n",
    "scores = []\n",
    "for cutoff in cutoffs:\n",
    "    predicted = [1 if p > cutoff else 0 for p in df.prob]\n",
    "    scores.append(accuracy_score(df.actual, predicted))\n",
    "\n",
    "line_accuracy = plt.plot(cutoffs, scores, \"-\", label=\"Accuracy\")[0]\n",
    "line_error = plt.plot(\n",
    "    cutoffs, [1 - acc for acc in scores], \"--\", label=\"Overall error\"\n",
    ")[0]\n",
    "plt.ylim([0, 1])\n",
    "plt.xlabel(\"Cutoff value\")\n",
    "plt.legend(handles=[line_accuracy, line_error])"
   ]
  },
  {
   "cell_type": "markdown",
   "id": "heavy-modem",
   "metadata": {},
   "source": [
    "## ROC curve for riding mowers example."
   ]
  },
  {
   "cell_type": "code",
   "execution_count": 21,
   "id": "innovative-hearts",
   "metadata": {},
   "outputs": [],
   "source": [
    "from sklearn.metrics import auc, roc_curve"
   ]
  },
  {
   "cell_type": "code",
   "execution_count": 22,
   "id": "attached-adams",
   "metadata": {},
   "outputs": [
    {
     "data": {
      "text/plain": [
       "<matplotlib.legend.Legend at 0x12573d7f0>"
      ]
     },
     "execution_count": 22,
     "metadata": {},
     "output_type": "execute_result"
    },
    {
     "data": {
      "image/png": "[encoded data removed]",
      "text/plain": [
       "<Figure size 360x360 with 1 Axes>"
      ]
     },
     "metadata": {
      "needs_background": "light"
     },
     "output_type": "display_data"
    }
   ],
   "source": [
    "# compute ROC curve and AUC\n",
    "fpr, tpr, _ = roc_curve(df.actual, df.prob)\n",
    "roc_auc = auc(fpr, tpr)\n",
    "\n",
    "plt.figure(figsize=[5, 5])\n",
    "plt.plot(fpr, tpr, color=\"darkorange\", lw=2, label=\"ROC curve (area = %0.4f)\" % roc_auc)\n",
    "plt.plot([0, 1], [0, 1], color=\"navy\", lw=2, linestyle=\"--\")\n",
    "plt.xlim([-0.01, 1])\n",
    "plt.ylim([0.0, 1.01])\n",
    "plt.xlabel(\"False positive rate (1 - Specificity)\")\n",
    "plt.xlabel(\"True positive rate (Sensitivity)\")\n",
    "plt.legend(loc=\"lower right\")"
   ]
  },
  {
   "cell_type": "code",
   "execution_count": 23,
   "id": "integral-tsunami",
   "metadata": {},
   "outputs": [
    {
     "data": {
      "text/html": [
       "<div>\n",
       "<style scoped>\n",
       "    .dataframe tbody tr th:only-of-type {\n",
       "        vertical-align: middle;\n",
       "    }\n",
       "\n",
       "    .dataframe tbody tr th {\n",
       "        vertical-align: top;\n",
       "    }\n",
       "\n",
       "    .dataframe thead th {\n",
       "        text-align: right;\n",
       "    }\n",
       "</style>\n",
       "<table border=\"1\" class=\"dataframe\">\n",
       "  <thead>\n",
       "    <tr style=\"text-align: right;\">\n",
       "      <th></th>\n",
       "      <th>prob</th>\n",
       "      <th>actual</th>\n",
       "    </tr>\n",
       "  </thead>\n",
       "  <tbody>\n",
       "    <tr>\n",
       "      <th>1</th>\n",
       "      <td>0.998</td>\n",
       "      <td>1</td>\n",
       "    </tr>\n",
       "    <tr>\n",
       "      <th>0</th>\n",
       "      <td>0.995</td>\n",
       "      <td>1</td>\n",
       "    </tr>\n",
       "    <tr>\n",
       "      <th>2</th>\n",
       "      <td>0.985</td>\n",
       "      <td>1</td>\n",
       "    </tr>\n",
       "    <tr>\n",
       "      <th>3</th>\n",
       "      <td>0.980</td>\n",
       "      <td>1</td>\n",
       "    </tr>\n",
       "    <tr>\n",
       "      <th>4</th>\n",
       "      <td>0.948</td>\n",
       "      <td>1</td>\n",
       "    </tr>\n",
       "  </tbody>\n",
       "</table>\n",
       "</div>"
      ],
      "text/plain": [
       "    prob  actual\n",
       "1  0.998       1\n",
       "0  0.995       1\n",
       "2  0.985       1\n",
       "3  0.980       1\n",
       "4  0.948       1"
      ]
     },
     "execution_count": 23,
     "metadata": {},
     "output_type": "execute_result"
    }
   ],
   "source": [
    "df = df.sort_values(by=\"prob\", ascending=False)\n",
    "df.head()"
   ]
  },
  {
   "cell_type": "code",
   "execution_count": 24,
   "id": "frozen-extraction",
   "metadata": {},
   "outputs": [
    {
     "data": {
      "text/plain": [
       "Text(0.5, 1.0, 'Gain chart')"
      ]
     },
     "execution_count": 24,
     "metadata": {},
     "output_type": "execute_result"
    },
    {
     "data": {
      "image/png": "[encoded data removed]",
      "text/plain": [
       "<Figure size 432x288 with 1 Axes>"
      ]
     },
     "metadata": {
      "needs_background": "light"
     },
     "output_type": "display_data"
    }
   ],
   "source": [
    "grouped_df = (\n",
    "    df.groupby([int(10 * i / df.prob.size) + 1 for i in range(df.prob.size)])\n",
    "    .actual.sum()\n",
    "    .reset_index()\n",
    ")\n",
    "grouped_df[\"actual_cum\"] = grouped_df.actual.cumsum()\n",
    "grouped_df[\"actual_cum_ratio\"] = grouped_df.actual_cum / grouped_df.actual_cum.max()\n",
    "# This is the index (grouped_df.index), this is with the column named index (grouped_df[\"index\"])\n",
    "grouped_df[\"baseline\"] = grouped_df[\"index\"] / 10.0\n",
    "ax = grouped_df.plot(x=\"index\", y=[\"baseline\", \"actual_cum_ratio\"])\n",
    "ax.set_title(\"Gain chart\")"
   ]
  }
 ],
 "metadata": {
  "kernelspec": {
   "display_name": "Python 3 (ipykernel)",
   "language": "python",
   "name": "python3"
  },
  "language_info": {
   "codemirror_mode": {
    "name": "ipython",
    "version": 3
   },
   "file_extension": ".py",
   "mimetype": "text/x-python",
   "name": "python",
   "nbconvert_exporter": "python",
   "pygments_lexer": "ipython3",
   "version": "3.9.14"
  }
 },
 "nbformat": 4,
 "nbformat_minor": 5
}
