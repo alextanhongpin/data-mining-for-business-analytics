{
 "cells": [
  {
   "cell_type": "code",
   "execution_count": 1,
   "id": "settled-boost",
   "metadata": {},
   "outputs": [],
   "source": [
    "import math\n",
    "\n",
    "import matplotlib.pylab as plt\n",
    "import pandas as pd\n",
    "from sklearn import metrics\n",
    "from sklearn.linear_model import LinearRegression\n",
    "from sklearn.metrics import accuracy_score, auc, roc_curve\n",
    "from sklearn.model_selection import train_test_split\n",
    "\n",
    "from pandas_util import gains_chart, lift_chart, normalize_columns"
   ]
  },
  {
   "cell_type": "markdown",
   "id": "continental-census",
   "metadata": {},
   "source": [
    "## Prediction error metrics from a model for Toyota car prices. Training and validation"
   ]
  },
  {
   "cell_type": "code",
   "execution_count": 2,
   "id": "expanded-confirmation",
   "metadata": {},
   "outputs": [
    {
     "data": {
      "text/html": [
       "<div>\n",
       "<style scoped>\n",
       "    .dataframe tbody tr th:only-of-type {\n",
       "        vertical-align: middle;\n",
       "    }\n",
       "\n",
       "    .dataframe tbody tr th {\n",
       "        vertical-align: top;\n",
       "    }\n",
       "\n",
       "    .dataframe thead th {\n",
       "        text-align: right;\n",
       "    }\n",
       "</style>\n",
       "<table border=\"1\" class=\"dataframe\">\n",
       "  <thead>\n",
       "    <tr style=\"text-align: right;\">\n",
       "      <th></th>\n",
       "      <th>id</th>\n",
       "      <th>model</th>\n",
       "      <th>price</th>\n",
       "      <th>age_08_04</th>\n",
       "      <th>mfg_month</th>\n",
       "      <th>mfg_year</th>\n",
       "      <th>km</th>\n",
       "      <th>fuel_type</th>\n",
       "      <th>hp</th>\n",
       "      <th>met_color</th>\n",
       "      <th>...</th>\n",
       "      <th>powered_windows</th>\n",
       "      <th>power_steering</th>\n",
       "      <th>radio</th>\n",
       "      <th>mistlamps</th>\n",
       "      <th>sport_model</th>\n",
       "      <th>backseat_divider</th>\n",
       "      <th>metallic_rim</th>\n",
       "      <th>radio_cassette</th>\n",
       "      <th>parking_assistant</th>\n",
       "      <th>tow_bar</th>\n",
       "    </tr>\n",
       "  </thead>\n",
       "  <tbody>\n",
       "    <tr>\n",
       "      <th>605</th>\n",
       "      <td>609</td>\n",
       "      <td>TOYOTA Corolla 1.3 16V SEDAN LINEA TERRA 4/5-D...</td>\n",
       "      <td>5950</td>\n",
       "      <td>68</td>\n",
       "      <td>1</td>\n",
       "      <td>1999</td>\n",
       "      <td>194545</td>\n",
       "      <td>Petrol</td>\n",
       "      <td>86</td>\n",
       "      <td>0</td>\n",
       "      <td>...</td>\n",
       "      <td>0</td>\n",
       "      <td>1</td>\n",
       "      <td>0</td>\n",
       "      <td>0</td>\n",
       "      <td>0</td>\n",
       "      <td>0</td>\n",
       "      <td>0</td>\n",
       "      <td>0</td>\n",
       "      <td>0</td>\n",
       "      <td>0</td>\n",
       "    </tr>\n",
       "    <tr>\n",
       "      <th>547</th>\n",
       "      <td>550</td>\n",
       "      <td>TOYOTA Corolla 1.4 16V VVT I HATCHB TERRA 2/3-...</td>\n",
       "      <td>9950</td>\n",
       "      <td>55</td>\n",
       "      <td>2</td>\n",
       "      <td>2000</td>\n",
       "      <td>44537</td>\n",
       "      <td>Petrol</td>\n",
       "      <td>97</td>\n",
       "      <td>0</td>\n",
       "      <td>...</td>\n",
       "      <td>0</td>\n",
       "      <td>1</td>\n",
       "      <td>1</td>\n",
       "      <td>0</td>\n",
       "      <td>0</td>\n",
       "      <td>1</td>\n",
       "      <td>0</td>\n",
       "      <td>1</td>\n",
       "      <td>0</td>\n",
       "      <td>1</td>\n",
       "    </tr>\n",
       "    <tr>\n",
       "      <th>342</th>\n",
       "      <td>345</td>\n",
       "      <td>TOYOTA Corolla 1.6 16V VVT I HATCHB G6 2/3-Doors</td>\n",
       "      <td>14950</td>\n",
       "      <td>42</td>\n",
       "      <td>3</td>\n",
       "      <td>2001</td>\n",
       "      <td>29640</td>\n",
       "      <td>Petrol</td>\n",
       "      <td>110</td>\n",
       "      <td>0</td>\n",
       "      <td>...</td>\n",
       "      <td>1</td>\n",
       "      <td>1</td>\n",
       "      <td>0</td>\n",
       "      <td>1</td>\n",
       "      <td>1</td>\n",
       "      <td>1</td>\n",
       "      <td>1</td>\n",
       "      <td>0</td>\n",
       "      <td>0</td>\n",
       "      <td>0</td>\n",
       "    </tr>\n",
       "    <tr>\n",
       "      <th>111</th>\n",
       "      <td>113</td>\n",
       "      <td>TOYOTA Corolla VERSO 2.0 D4D SOL (7) MPV</td>\n",
       "      <td>31275</td>\n",
       "      <td>4</td>\n",
       "      <td>5</td>\n",
       "      <td>2004</td>\n",
       "      <td>1500</td>\n",
       "      <td>Diesel</td>\n",
       "      <td>116</td>\n",
       "      <td>1</td>\n",
       "      <td>...</td>\n",
       "      <td>1</td>\n",
       "      <td>1</td>\n",
       "      <td>0</td>\n",
       "      <td>1</td>\n",
       "      <td>1</td>\n",
       "      <td>1</td>\n",
       "      <td>0</td>\n",
       "      <td>0</td>\n",
       "      <td>0</td>\n",
       "      <td>0</td>\n",
       "    </tr>\n",
       "    <tr>\n",
       "      <th>616</th>\n",
       "      <td>620</td>\n",
       "      <td>TOYOTA Corolla 2.0 DSL LIFTB LINEA TERRA 4/5-D...</td>\n",
       "      <td>9500</td>\n",
       "      <td>62</td>\n",
       "      <td>7</td>\n",
       "      <td>1999</td>\n",
       "      <td>147636</td>\n",
       "      <td>Diesel</td>\n",
       "      <td>72</td>\n",
       "      <td>0</td>\n",
       "      <td>...</td>\n",
       "      <td>0</td>\n",
       "      <td>1</td>\n",
       "      <td>0</td>\n",
       "      <td>0</td>\n",
       "      <td>0</td>\n",
       "      <td>1</td>\n",
       "      <td>0</td>\n",
       "      <td>0</td>\n",
       "      <td>0</td>\n",
       "      <td>0</td>\n",
       "    </tr>\n",
       "  </tbody>\n",
       "</table>\n",
       "<p>5 rows × 39 columns</p>\n",
       "</div>"
      ],
      "text/plain": [
       "      id                                              model  price  age_08_04  \\\n",
       "605  609  TOYOTA Corolla 1.3 16V SEDAN LINEA TERRA 4/5-D...   5950         68   \n",
       "547  550  TOYOTA Corolla 1.4 16V VVT I HATCHB TERRA 2/3-...   9950         55   \n",
       "342  345   TOYOTA Corolla 1.6 16V VVT I HATCHB G6 2/3-Doors  14950         42   \n",
       "111  113           TOYOTA Corolla VERSO 2.0 D4D SOL (7) MPV  31275          4   \n",
       "616  620  TOYOTA Corolla 2.0 DSL LIFTB LINEA TERRA 4/5-D...   9500         62   \n",
       "\n",
       "     mfg_month  mfg_year      km fuel_type   hp  met_color  ...  \\\n",
       "605          1      1999  194545    Petrol   86          0  ...   \n",
       "547          2      2000   44537    Petrol   97          0  ...   \n",
       "342          3      2001   29640    Petrol  110          0  ...   \n",
       "111          5      2004    1500    Diesel  116          1  ...   \n",
       "616          7      1999  147636    Diesel   72          0  ...   \n",
       "\n",
       "    powered_windows  power_steering  radio  mistlamps  sport_model  \\\n",
       "605               0               1      0          0            0   \n",
       "547               0               1      1          0            0   \n",
       "342               1               1      0          1            1   \n",
       "111               1               1      0          1            1   \n",
       "616               0               1      0          0            0   \n",
       "\n",
       "     backseat_divider  metallic_rim  radio_cassette  parking_assistant  \\\n",
       "605                 0             0               0                  0   \n",
       "547                 1             0               1                  0   \n",
       "342                 1             1               0                  0   \n",
       "111                 1             0               0                  0   \n",
       "616                 1             0               0                  0   \n",
       "\n",
       "     tow_bar  \n",
       "605        0  \n",
       "547        1  \n",
       "342        0  \n",
       "111        0  \n",
       "616        0  \n",
       "\n",
       "[5 rows x 39 columns]"
      ]
     },
     "execution_count": 2,
     "metadata": {},
     "output_type": "execute_result"
    }
   ],
   "source": [
    "# Reduce data frame to the top 1000 rows and select columns for regression analysis.\n",
    "car_df = pd.read_csv(\"./datasets/dmba/ToyotaCorolla.csv\")\n",
    "normalize_columns(car_df)\n",
    "car_df.sample(5)"
   ]
  },
  {
   "cell_type": "code",
   "execution_count": 3,
   "id": "trained-associate",
   "metadata": {},
   "outputs": [],
   "source": [
    "# Create a list of predictor variables by removing output variables and text columns\n",
    "exclude_columns = \"price id model fuel_type color\".split()\n",
    "predictors = [s for s in car_df.columns if s not in exclude_columns]\n",
    "outcome = \"price\""
   ]
  },
  {
   "cell_type": "code",
   "execution_count": 4,
   "id": "centered-pottery",
   "metadata": {},
   "outputs": [],
   "source": [
    "# Partition data.\n",
    "X = car_df[predictors]\n",
    "y = car_df[outcome]\n",
    "train_X, valid_X, train_y, valid_y = train_test_split(\n",
    "    X, y, test_size=0.4, random_state=1\n",
    ")"
   ]
  },
  {
   "cell_type": "code",
   "execution_count": 5,
   "id": "effective-architect",
   "metadata": {},
   "outputs": [
    {
     "data": {
      "text/plain": [
       "{'Root mean squared error (RMSE)': 1256776.8345910097,\n",
       " 'Mean absolute error (MAE)': 811.6770003906788,\n",
       " 'Max error': 6679.952359929979}"
      ]
     },
     "execution_count": 5,
     "metadata": {},
     "output_type": "execute_result"
    }
   ],
   "source": [
    "# Train linear regression model\n",
    "reg = LinearRegression()\n",
    "reg.fit(train_X, train_y)\n",
    "\n",
    "# Evaluate performance\n",
    "# Training\n",
    "def regression_summary(y_true, y_pred):\n",
    "    return {\n",
    "        \"Root mean squared error (RMSE)\": metrics.mean_squared_error(y_true, y_pred),\n",
    "        \"Mean absolute error (MAE)\": metrics.mean_absolute_error(y_true, y_pred),\n",
    "        \"Max error\": metrics.max_error(y_true, y_pred),\n",
    "    }\n",
    "\n",
    "\n",
    "regression_summary(train_y, reg.predict(train_X))"
   ]
  },
  {
   "cell_type": "code",
   "execution_count": 6,
   "id": "functioning-signal",
   "metadata": {},
   "outputs": [
    {
     "data": {
      "text/plain": [
       "{'Root mean squared error (RMSE)': 1910021.3911752158,\n",
       " 'Mean absolute error (MAE)': 880.1396340851031,\n",
       " 'Max error': 19983.225248097442}"
      ]
     },
     "execution_count": 6,
     "metadata": {},
     "output_type": "execute_result"
    }
   ],
   "source": [
    "regression_summary(valid_y, reg.predict(valid_X))"
   ]
  },
  {
   "cell_type": "code",
   "execution_count": 7,
   "id": "breeding-radiation",
   "metadata": {},
   "outputs": [
    {
     "data": {
      "text/plain": [
       "<AxesSubplot:title={'center':'residual'}, xlabel='[data set]'>"
      ]
     },
     "execution_count": 7,
     "metadata": {},
     "output_type": "execute_result"
    },
    {
     "data": {
      "image/png": "[encoded data removed]",
      "text/plain": [
       "<Figure size 1152x648 with 3 Axes>"
      ]
     },
     "metadata": {
      "needs_background": "light"
     },
     "output_type": "display_data"
    }
   ],
   "source": [
    "pred_error_train = pd.DataFrame(\n",
    "    {\"residual\": train_y - reg.predict(train_X), \"data set\": \"training\"}\n",
    ")\n",
    "pred_error_valid = pd.DataFrame(\n",
    "    {\"residual\": valid_y - reg.predict(valid_X), \"data set\": \"validation\"}\n",
    ")\n",
    "boxdata_df = pred_error_train.append(pred_error_valid, ignore_index=True)\n",
    "fig, axes = plt.subplots(nrows=1, ncols=3)\n",
    "fig.set_size_inches(16, 9)\n",
    "common = {\"bins\": 100, \"range\": [-6500, 6500]}\n",
    "pred_error_train.hist(ax=axes[0], **common)\n",
    "pred_error_valid.hist(ax=axes[1], **common)\n",
    "boxdata_df.boxplot(ax=axes[2], by=\"data set\")"
   ]
  },
  {
   "cell_type": "code",
   "execution_count": 8,
   "id": "comparative-booth",
   "metadata": {},
   "outputs": [],
   "source": [
    "# Histograms and boxplots of Toyota price prediction errors, for training and validation sets."
   ]
  },
  {
   "cell_type": "markdown",
   "id": "realistic-ordinance",
   "metadata": {},
   "source": [
    "## Gain and lift charts\n",
    "\n",
    "\n",
    "Gain and lift charts are visual aid for evaluating performance of classification models.\n",
    "\n",
    "\n",
    "How does it differ from confusion matrix?\n",
    "- confusion matrix: evaluates the overall population\n",
    "- gain and lift chart: evaluates model performance in a portion of the population\n",
    "\n",
    "In short, we evaluate the model in terms of benefit we could get using the model in a portion of the population.\n",
    "\n",
    "\n",
    "Reference:\n",
    "1.  https://towardsdatascience.com/model-benefit-evaluation-with-lift-and-gain-analysis-4b69f9288ab3#:~:text=Gain%20and%20lift%20charts%20are,a%20portion%20of%20the%20population.\n",
    "2. http://www2.cs.uregina.ca/~dbd/cs831/notes/lift_chart/lift_chart.html\n",
    "3. https://www.geeksforgeeks.org/understanding-gain-chart-and-lift-chart/\n",
    "4. https://www.listendata.com/2014/08/excel-template-gain-and-lift-charts.html\n",
    "5. https://select-statistics.co.uk/blog/cumulative-gains-and-lift-curves-measuring-the-performance-of-a-marketing-campaign/"
   ]
  },
  {
   "cell_type": "code",
   "execution_count": 9,
   "id": "signed-creek",
   "metadata": {},
   "outputs": [
    {
     "data": {
      "text/plain": [
       "(array([0, 0, 0, 1, 1, 1, 2, 2, 2]), array([0, 0, 0, 0, 0, 1, 1, 2, 2]))"
      ]
     },
     "execution_count": 9,
     "metadata": {},
     "output_type": "execute_result"
    }
   ],
   "source": [
    "# Difference between pd.qcut and pd.cut\n",
    "# pd.cut partition equally by values\n",
    "# pd.qcut partition equally by dataset\n",
    "\n",
    "numbers = [\n",
    "    1,\n",
    "    1,\n",
    "    1,\n",
    "    2,\n",
    "    2,\n",
    "    3,\n",
    "    4,\n",
    "    5,\n",
    "    6,\n",
    "]\n",
    "pd.qcut(numbers, 3, labels=False), pd.cut(numbers, 3, labels=False)"
   ]
  },
  {
   "cell_type": "code",
   "execution_count": 10,
   "id": "color-disorder",
   "metadata": {},
   "outputs": [
    {
     "data": {
      "text/html": [
       "<div>\n",
       "<style scoped>\n",
       "    .dataframe tbody tr th:only-of-type {\n",
       "        vertical-align: middle;\n",
       "    }\n",
       "\n",
       "    .dataframe tbody tr th {\n",
       "        vertical-align: top;\n",
       "    }\n",
       "\n",
       "    .dataframe thead th {\n",
       "        text-align: right;\n",
       "    }\n",
       "</style>\n",
       "<table border=\"1\" class=\"dataframe\">\n",
       "  <thead>\n",
       "    <tr style=\"text-align: right;\">\n",
       "      <th></th>\n",
       "      <th>decile</th>\n",
       "      <th>pred</th>\n",
       "      <th>count</th>\n",
       "      <th>decile_percent</th>\n",
       "      <th>cumulative</th>\n",
       "      <th>gain</th>\n",
       "      <th>lift</th>\n",
       "    </tr>\n",
       "  </thead>\n",
       "  <tbody>\n",
       "    <tr>\n",
       "      <th>9</th>\n",
       "      <td>1</td>\n",
       "      <td>18514.313292</td>\n",
       "      <td>58</td>\n",
       "      <td>10</td>\n",
       "      <td>18514.313292</td>\n",
       "      <td>17.523277</td>\n",
       "      <td>1.752328</td>\n",
       "    </tr>\n",
       "    <tr>\n",
       "      <th>8</th>\n",
       "      <td>2</td>\n",
       "      <td>13551.618082</td>\n",
       "      <td>57</td>\n",
       "      <td>20</td>\n",
       "      <td>32065.931373</td>\n",
       "      <td>30.349502</td>\n",
       "      <td>1.517475</td>\n",
       "    </tr>\n",
       "    <tr>\n",
       "      <th>7</th>\n",
       "      <td>3</td>\n",
       "      <td>11923.397035</td>\n",
       "      <td>58</td>\n",
       "      <td>30</td>\n",
       "      <td>43989.328408</td>\n",
       "      <td>41.634662</td>\n",
       "      <td>1.387822</td>\n",
       "    </tr>\n",
       "    <tr>\n",
       "      <th>6</th>\n",
       "      <td>4</td>\n",
       "      <td>10778.656149</td>\n",
       "      <td>57</td>\n",
       "      <td>40</td>\n",
       "      <td>54767.984557</td>\n",
       "      <td>51.836357</td>\n",
       "      <td>1.295909</td>\n",
       "    </tr>\n",
       "    <tr>\n",
       "      <th>5</th>\n",
       "      <td>5</td>\n",
       "      <td>10191.693253</td>\n",
       "      <td>57</td>\n",
       "      <td>50</td>\n",
       "      <td>64959.677810</td>\n",
       "      <td>61.482508</td>\n",
       "      <td>1.229650</td>\n",
       "    </tr>\n",
       "    <tr>\n",
       "      <th>4</th>\n",
       "      <td>6</td>\n",
       "      <td>9587.440873</td>\n",
       "      <td>58</td>\n",
       "      <td>60</td>\n",
       "      <td>74547.118683</td>\n",
       "      <td>70.556751</td>\n",
       "      <td>1.175946</td>\n",
       "    </tr>\n",
       "    <tr>\n",
       "      <th>3</th>\n",
       "      <td>7</td>\n",
       "      <td>8917.324345</td>\n",
       "      <td>57</td>\n",
       "      <td>70</td>\n",
       "      <td>83464.443028</td>\n",
       "      <td>78.996748</td>\n",
       "      <td>1.128525</td>\n",
       "    </tr>\n",
       "    <tr>\n",
       "      <th>2</th>\n",
       "      <td>8</td>\n",
       "      <td>8253.960950</td>\n",
       "      <td>58</td>\n",
       "      <td>80</td>\n",
       "      <td>91718.403978</td>\n",
       "      <td>86.808890</td>\n",
       "      <td>1.085111</td>\n",
       "    </tr>\n",
       "    <tr>\n",
       "      <th>1</th>\n",
       "      <td>9</td>\n",
       "      <td>7547.928830</td>\n",
       "      <td>57</td>\n",
       "      <td>90</td>\n",
       "      <td>99266.332808</td>\n",
       "      <td>93.952792</td>\n",
       "      <td>1.043920</td>\n",
       "    </tr>\n",
       "    <tr>\n",
       "      <th>0</th>\n",
       "      <td>10</td>\n",
       "      <td>6389.210578</td>\n",
       "      <td>58</td>\n",
       "      <td>100</td>\n",
       "      <td>105655.543386</td>\n",
       "      <td>100.000000</td>\n",
       "      <td>1.000000</td>\n",
       "    </tr>\n",
       "  </tbody>\n",
       "</table>\n",
       "</div>"
      ],
      "text/plain": [
       "  decile          pred  count  decile_percent     cumulative        gain  \\\n",
       "9      1  18514.313292     58              10   18514.313292   17.523277   \n",
       "8      2  13551.618082     57              20   32065.931373   30.349502   \n",
       "7      3  11923.397035     58              30   43989.328408   41.634662   \n",
       "6      4  10778.656149     57              40   54767.984557   51.836357   \n",
       "5      5  10191.693253     57              50   64959.677810   61.482508   \n",
       "4      6   9587.440873     58              60   74547.118683   70.556751   \n",
       "3      7   8917.324345     57              70   83464.443028   78.996748   \n",
       "2      8   8253.960950     58              80   91718.403978   86.808890   \n",
       "1      9   7547.928830     57              90   99266.332808   93.952792   \n",
       "0     10   6389.210578     58             100  105655.543386  100.000000   \n",
       "\n",
       "       lift  \n",
       "9  1.752328  \n",
       "8  1.517475  \n",
       "7  1.387822  \n",
       "6  1.295909  \n",
       "5  1.229650  \n",
       "4  1.175946  \n",
       "3  1.128525  \n",
       "2  1.085111  \n",
       "1  1.043920  \n",
       "0  1.000000  "
      ]
     },
     "execution_count": 10,
     "metadata": {},
     "output_type": "execute_result"
    }
   ],
   "source": [
    "pred_df = pd.DataFrame(reg.predict(valid_X), columns=[\"y_pred\"], index=valid_X.index)\n",
    "pred_df.sort_values(by=\"y_pred\", ascending=False, inplace=True)\n",
    "\n",
    "# Divide the data into deciles: divide the data into 10 sets and label it.\n",
    "# qcut bins the data into different group. However, the largest values will be labelled decile 10 instead of 1, that is why we inverse the range.\n",
    "pred_df[\"decile\"] = pd.qcut(pred_df.y_pred, 10, labels=[i for i in range(10, 0, -1)])\n",
    "lift_df = (\n",
    "    pred_df.groupby(\"decile\")\n",
    "    .y_pred.agg(pred=(\"mean\"), count=(\"count\"))\n",
    "    .reset_index()\n",
    "    .sort_values(\"decile\", ascending=False)\n",
    ")\n",
    "lift_df[\"decile_percent\"] = lift_df.decile.astype(int) * 10\n",
    "lift_df[\"cumulative\"] = lift_df.pred.cumsum()\n",
    "lift_df[\"gain\"] = lift_df.cumulative / lift_df.cumulative.max() * 100\n",
    "lift_df[\"lift\"] = lift_df.gain / lift_df.decile_percent\n",
    "lift_df"
   ]
  },
  {
   "cell_type": "code",
   "execution_count": 11,
   "id": "representative-mistress",
   "metadata": {},
   "outputs": [
    {
     "data": {
      "text/plain": [
       "Text(0.5, 1.0, 'Gain Chart')"
      ]
     },
     "execution_count": 11,
     "metadata": {},
     "output_type": "execute_result"
    },
    {
     "data": {
      "image/png": "[encoded data removed]",
      "text/plain": [
       "<Figure size 432x288 with 1 Axes>"
      ]
     },
     "metadata": {
      "needs_background": "light"
     },
     "output_type": "display_data"
    }
   ],
   "source": [
    "ax = lift_df.plot(x=\"decile\", y=[\"gain\", \"decile_percent\"])\n",
    "ax.legend([\"gain\", \"baseline\"])\n",
    "plt.title(\"Gain Chart\")"
   ]
  },
  {
   "cell_type": "code",
   "execution_count": 12,
   "id": "engaged-schema",
   "metadata": {},
   "outputs": [
    {
     "data": {
      "text/plain": [
       "Text(0.5, 1.0, 'Lift Chart')"
      ]
     },
     "execution_count": 12,
     "metadata": {},
     "output_type": "execute_result"
    },
    {
     "data": {
      "image/png": "[encoded data removed]",
      "text/plain": [
       "<Figure size 432x288 with 1 Axes>"
      ]
     },
     "metadata": {
      "needs_background": "light"
     },
     "output_type": "display_data"
    }
   ],
   "source": [
    "ax = lift_df.plot.bar(x=\"decile\", y=\"lift\")\n",
    "ax.set_ylim(1)  # Start from 1\n",
    "plt.title(\"Lift Chart\")"
   ]
  },
  {
   "cell_type": "code",
   "execution_count": 13,
   "id": "successful-decision",
   "metadata": {},
   "outputs": [
    {
     "data": {
      "image/png": "[encoded data removed]",
      "text/plain": [
       "<Figure size 432x288 with 2 Axes>"
      ]
     },
     "metadata": {
      "needs_background": "light"
     },
     "output_type": "display_data"
    }
   ],
   "source": [
    "pred_v = pd.Series(reg.predict(valid_X))\n",
    "pred_v = pred_v.sort_values(ascending=False)\n",
    "\n",
    "fig, axes = plt.subplots(nrows=1, ncols=2)\n",
    "ax = gains_chart(pred_v, ax=axes[0])\n",
    "ax.set_ylabel(\"Cumulative Price\")\n",
    "ax.set_title(\"Cumulative Gains Chart\")\n",
    "\n",
    "ax = lift_chart(pred_v, ax=axes[1], labelBars=False)\n",
    "ax.set_ylabel(\"Lift\")\n",
    "\n",
    "plt.tight_layout()"
   ]
  }
 ],
 "metadata": {
  "kernelspec": {
   "display_name": "Python 3 (ipykernel)",
   "language": "python",
   "name": "python3"
  },
  "language_info": {
   "codemirror_mode": {
    "name": "ipython",
    "version": 3
   },
   "file_extension": ".py",
   "mimetype": "text/x-python",
   "name": "python",
   "nbconvert_exporter": "python",
   "pygments_lexer": "ipython3",
   "version": "3.9.14"
  }
 },
 "nbformat": 4,
 "nbformat_minor": 5
}
