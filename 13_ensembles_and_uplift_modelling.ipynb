{
 "cells": [
  {
   "cell_type": "code",
   "execution_count": 1,
   "id": "extreme-front",
   "metadata": {},
   "outputs": [],
   "source": [
    "import pandas as pd\n",
    "from sklearn.ensemble import (\n",
    "    AdaBoostClassifier,\n",
    "    BaggingClassifier,\n",
    "    RandomForestClassifier,\n",
    ")\n",
    "from sklearn.model_selection import train_test_split\n",
    "from sklearn.tree import DecisionTreeClassifier\n",
    "\n",
    "from metrics import classification_summary\n",
    "from pandas_util import normalize_columns"
   ]
  },
  {
   "cell_type": "markdown",
   "id": "confidential-buffalo",
   "metadata": {},
   "source": [
    "## Bagging and Boosting classification trees (personal loan data)"
   ]
  },
  {
   "cell_type": "code",
   "execution_count": 2,
   "id": "exact-appendix",
   "metadata": {},
   "outputs": [],
   "source": [
    "bank_df = pd.read_csv(\"./datasets/dmba/UniversalBank.csv\")\n",
    "normalize_columns(bank_df)\n",
    "bank_df.drop(columns=[\"id\", \"zip_code\"], inplace=True)\n",
    "\n",
    "X = bank_df.drop(columns=[\"personal_loan\"])\n",
    "y = bank_df[\"personal_loan\"]\n",
    "X_train, X_valid, y_train, y_valid = train_test_split(\n",
    "    X, y, test_size=0.4, random_state=3\n",
    ")"
   ]
  },
  {
   "cell_type": "code",
   "execution_count": 3,
   "id": "persistent-composition",
   "metadata": {},
   "outputs": [
    {
     "name": "stdout",
     "output_type": "stream",
     "text": [
      "Accuracy: 0.9825\n",
      "\n",
      "Confusion matrix:\n",
      "[[1778   15]\n",
      " [  20  187]]\n",
      "\n",
      "Classification report:\n",
      "              precision    recall  f1-score   support\n",
      "\n",
      "           0       0.99      0.99      0.99      1793\n",
      "           1       0.93      0.90      0.91       207\n",
      "\n",
      "    accuracy                           0.98      2000\n",
      "   macro avg       0.96      0.95      0.95      2000\n",
      "weighted avg       0.98      0.98      0.98      2000\n",
      "\n"
     ]
    }
   ],
   "source": [
    "# Single tree\n",
    "single_tree = DecisionTreeClassifier(random_state=1)\n",
    "single_tree.fit(X_train, y_train)\n",
    "classification_summary(y_valid, single_tree.predict(X_valid))"
   ]
  },
  {
   "cell_type": "code",
   "execution_count": 4,
   "id": "lovely-cooling",
   "metadata": {},
   "outputs": [
    {
     "name": "stdout",
     "output_type": "stream",
     "text": [
      "Accuracy: 0.9855\n",
      "\n",
      "Confusion matrix:\n",
      "[[1781   12]\n",
      " [  17  190]]\n",
      "\n",
      "Classification report:\n",
      "              precision    recall  f1-score   support\n",
      "\n",
      "           0       0.99      0.99      0.99      1793\n",
      "           1       0.94      0.92      0.93       207\n",
      "\n",
      "    accuracy                           0.99      2000\n",
      "   macro avg       0.97      0.96      0.96      2000\n",
      "weighted avg       0.99      0.99      0.99      2000\n",
      "\n"
     ]
    }
   ],
   "source": [
    "# Bagging\n",
    "bagging = BaggingClassifier(\n",
    "    DecisionTreeClassifier(random_state=1), n_estimators=100, random_state=1\n",
    ")\n",
    "bagging.fit(X_train, y_train)\n",
    "classification_summary(y_valid, bagging.predict(X_valid))"
   ]
  },
  {
   "cell_type": "code",
   "execution_count": 5,
   "id": "later-portsmouth",
   "metadata": {},
   "outputs": [
    {
     "name": "stdout",
     "output_type": "stream",
     "text": [
      "Accuracy: 0.984\n",
      "\n",
      "Confusion matrix:\n",
      "[[1776   17]\n",
      " [  15  192]]\n",
      "\n",
      "Classification report:\n",
      "              precision    recall  f1-score   support\n",
      "\n",
      "           0       0.99      0.99      0.99      1793\n",
      "           1       0.92      0.93      0.92       207\n",
      "\n",
      "    accuracy                           0.98      2000\n",
      "   macro avg       0.96      0.96      0.96      2000\n",
      "weighted avg       0.98      0.98      0.98      2000\n",
      "\n"
     ]
    }
   ],
   "source": [
    "# Boosting\n",
    "boost = AdaBoostClassifier(\n",
    "    DecisionTreeClassifier(random_state=1), n_estimators=100, random_state=1\n",
    ")\n",
    "boost.fit(X_train, y_train)\n",
    "classification_summary(y_valid, boost.predict(X_valid))"
   ]
  },
  {
   "cell_type": "markdown",
   "id": "contained-layer",
   "metadata": {},
   "source": [
    "# Uplift"
   ]
  },
  {
   "cell_type": "code",
   "execution_count": 7,
   "id": "instrumental-retention",
   "metadata": {},
   "outputs": [],
   "source": [
    "voter_df = pd.read_csv(\"./datasets/dmba/Voter-Persuasion.csv\")\n",
    "normalize_columns(voter_df)"
   ]
  },
  {
   "cell_type": "code",
   "execution_count": 9,
   "id": "primary-burlington",
   "metadata": {},
   "outputs": [
    {
     "data": {
      "text/plain": [
       "['N', 'Y']"
      ]
     },
     "execution_count": 9,
     "metadata": {},
     "output_type": "execute_result"
    }
   ],
   "source": [
    "predictors = [\n",
    "    \"age\",\n",
    "    \"nh_white\",\n",
    "    \"comm_pt\",\n",
    "    \"h_f1\",\n",
    "    \"reg_days\",\n",
    "    \"pr_pelig\",\n",
    "    \"e_pelig\",\n",
    "    \"politicalc\",\n",
    "    \"message_a\",\n",
    "]\n",
    "outcome = \"moved_ad\"\n",
    "classes = list(voter_df.moved_ad.unique())\n",
    "classes"
   ]
  },
  {
   "cell_type": "code",
   "execution_count": 10,
   "id": "governing-springfield",
   "metadata": {},
   "outputs": [],
   "source": [
    "# Partition the data\n",
    "X = voter_df[predictors]\n",
    "y = voter_df[outcome]\n",
    "X_train, X_valid, y_train, y_valid = train_test_split(\n",
    "    X, y, test_size=0.4, random_state=1\n",
    ")"
   ]
  },
  {
   "cell_type": "code",
   "execution_count": 11,
   "id": "secret-advance",
   "metadata": {},
   "outputs": [
    {
     "data": {
      "text/plain": [
       "RandomForestClassifier(random_state=1)"
      ]
     },
     "execution_count": 11,
     "metadata": {},
     "output_type": "execute_result"
    }
   ],
   "source": [
    "# Train a random forest classifier using the training set\n",
    "rf = RandomForestClassifier(n_estimators=100, random_state=1)\n",
    "rf.fit(X_train, y_train)"
   ]
  },
  {
   "cell_type": "code",
   "execution_count": 12,
   "id": "cutting-administration",
   "metadata": {},
   "outputs": [
    {
     "data": {
      "text/html": [
       "<div>\n",
       "<style scoped>\n",
       "    .dataframe tbody tr th:only-of-type {\n",
       "        vertical-align: middle;\n",
       "    }\n",
       "\n",
       "    .dataframe tbody tr th {\n",
       "        vertical-align: top;\n",
       "    }\n",
       "\n",
       "    .dataframe thead th {\n",
       "        text-align: right;\n",
       "    }\n",
       "</style>\n",
       "<table border=\"1\" class=\"dataframe\">\n",
       "  <thead>\n",
       "    <tr style=\"text-align: right;\">\n",
       "      <th></th>\n",
       "      <th>prob_message</th>\n",
       "      <th>prob_no_message</th>\n",
       "      <th>uplift</th>\n",
       "    </tr>\n",
       "  </thead>\n",
       "  <tbody>\n",
       "    <tr>\n",
       "      <th>9953</th>\n",
       "      <td>0.77</td>\n",
       "      <td>0.62</td>\n",
       "      <td>0.15</td>\n",
       "    </tr>\n",
       "    <tr>\n",
       "      <th>3850</th>\n",
       "      <td>0.39</td>\n",
       "      <td>0.39</td>\n",
       "      <td>0.00</td>\n",
       "    </tr>\n",
       "    <tr>\n",
       "      <th>4962</th>\n",
       "      <td>0.20</td>\n",
       "      <td>0.14</td>\n",
       "      <td>0.06</td>\n",
       "    </tr>\n",
       "    <tr>\n",
       "      <th>3886</th>\n",
       "      <td>0.86</td>\n",
       "      <td>0.62</td>\n",
       "      <td>0.24</td>\n",
       "    </tr>\n",
       "    <tr>\n",
       "      <th>5437</th>\n",
       "      <td>0.10</td>\n",
       "      <td>0.28</td>\n",
       "      <td>-0.18</td>\n",
       "    </tr>\n",
       "  </tbody>\n",
       "</table>\n",
       "</div>"
      ],
      "text/plain": [
       "      prob_message  prob_no_message  uplift\n",
       "9953          0.77             0.62    0.15\n",
       "3850          0.39             0.39    0.00\n",
       "4962          0.20             0.14    0.06\n",
       "3886          0.86             0.62    0.24\n",
       "5437          0.10             0.28   -0.18"
      ]
     },
     "execution_count": 12,
     "metadata": {},
     "output_type": "execute_result"
    }
   ],
   "source": [
    "# Calculating the uplift\n",
    "uplift_df = X_valid.copy()  # Create a copy so that we can modify this data\n",
    "uplift_df.message_a = 1\n",
    "y_pred = rf.predict_proba(uplift_df)\n",
    "uplift_df.message_a = 0\n",
    "y_control = rf.predict_proba(uplift_df)\n",
    "\n",
    "uplift_result_df = pd.DataFrame(\n",
    "    {\n",
    "        \"prob_message\": y_pred[:, 1],\n",
    "        \"prob_no_message\": y_control[:, 1],\n",
    "        \"uplift\": y_pred[:, 1] - y_control[:, 1],\n",
    "    },\n",
    "    index=uplift_df.index,\n",
    ")\n",
    "uplift_result_df.head()"
   ]
  },
  {
   "cell_type": "code",
   "execution_count": null,
   "id": "established-recording",
   "metadata": {},
   "outputs": [],
   "source": []
  }
 ],
 "metadata": {
  "kernelspec": {
   "display_name": "Python 3 (ipykernel)",
   "language": "python",
   "name": "python3"
  },
  "language_info": {
   "codemirror_mode": {
    "name": "ipython",
    "version": 3
   },
   "file_extension": ".py",
   "mimetype": "text/x-python",
   "name": "python",
   "nbconvert_exporter": "python",
   "pygments_lexer": "ipython3",
   "version": "3.9.14"
  }
 },
 "nbformat": 4,
 "nbformat_minor": 5
}
