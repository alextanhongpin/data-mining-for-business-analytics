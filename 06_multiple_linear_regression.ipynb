{
 "cells": [
  {
   "cell_type": "code",
   "execution_count": 1,
   "id": "floppy-handle",
   "metadata": {},
   "outputs": [],
   "source": [
    "import matplotlib.pylab as plt\n",
    "import pandas as pd\n",
    "from sklearn.linear_model import BayesianRidge, Lasso, LassoCV, LinearRegression, Ridge\n",
    "from sklearn.metrics import accuracy_score, mean_absolute_error\n",
    "from sklearn.model_selection import train_test_split\n",
    "\n",
    "from pandas_util import normalize_columns"
   ]
  },
  {
   "cell_type": "code",
   "execution_count": 2,
   "id": "announced-shuttle",
   "metadata": {},
   "outputs": [
    {
     "data": {
      "text/html": [
       "<div>\n",
       "<style scoped>\n",
       "    .dataframe tbody tr th:only-of-type {\n",
       "        vertical-align: middle;\n",
       "    }\n",
       "\n",
       "    .dataframe tbody tr th {\n",
       "        vertical-align: top;\n",
       "    }\n",
       "\n",
       "    .dataframe thead th {\n",
       "        text-align: right;\n",
       "    }\n",
       "</style>\n",
       "<table border=\"1\" class=\"dataframe\">\n",
       "  <thead>\n",
       "    <tr style=\"text-align: right;\">\n",
       "      <th></th>\n",
       "      <th>id</th>\n",
       "      <th>model</th>\n",
       "      <th>price</th>\n",
       "      <th>age_08_04</th>\n",
       "      <th>mfg_month</th>\n",
       "      <th>mfg_year</th>\n",
       "      <th>km</th>\n",
       "      <th>fuel_type</th>\n",
       "      <th>hp</th>\n",
       "      <th>met_color</th>\n",
       "      <th>...</th>\n",
       "      <th>powered_windows</th>\n",
       "      <th>power_steering</th>\n",
       "      <th>radio</th>\n",
       "      <th>mistlamps</th>\n",
       "      <th>sport_model</th>\n",
       "      <th>backseat_divider</th>\n",
       "      <th>metallic_rim</th>\n",
       "      <th>radio_cassette</th>\n",
       "      <th>parking_assistant</th>\n",
       "      <th>tow_bar</th>\n",
       "    </tr>\n",
       "  </thead>\n",
       "  <tbody>\n",
       "    <tr>\n",
       "      <th>0</th>\n",
       "      <td>1</td>\n",
       "      <td>TOYOTA Corolla 2.0 D4D HATCHB TERRA 2/3-Doors</td>\n",
       "      <td>13500</td>\n",
       "      <td>23</td>\n",
       "      <td>10</td>\n",
       "      <td>2002</td>\n",
       "      <td>46986</td>\n",
       "      <td>Diesel</td>\n",
       "      <td>90</td>\n",
       "      <td>1</td>\n",
       "      <td>...</td>\n",
       "      <td>1</td>\n",
       "      <td>1</td>\n",
       "      <td>0</td>\n",
       "      <td>0</td>\n",
       "      <td>0</td>\n",
       "      <td>1</td>\n",
       "      <td>0</td>\n",
       "      <td>0</td>\n",
       "      <td>0</td>\n",
       "      <td>0</td>\n",
       "    </tr>\n",
       "    <tr>\n",
       "      <th>1</th>\n",
       "      <td>2</td>\n",
       "      <td>TOYOTA Corolla 2.0 D4D HATCHB TERRA 2/3-Doors</td>\n",
       "      <td>13750</td>\n",
       "      <td>23</td>\n",
       "      <td>10</td>\n",
       "      <td>2002</td>\n",
       "      <td>72937</td>\n",
       "      <td>Diesel</td>\n",
       "      <td>90</td>\n",
       "      <td>1</td>\n",
       "      <td>...</td>\n",
       "      <td>0</td>\n",
       "      <td>1</td>\n",
       "      <td>0</td>\n",
       "      <td>0</td>\n",
       "      <td>0</td>\n",
       "      <td>1</td>\n",
       "      <td>0</td>\n",
       "      <td>0</td>\n",
       "      <td>0</td>\n",
       "      <td>0</td>\n",
       "    </tr>\n",
       "    <tr>\n",
       "      <th>2</th>\n",
       "      <td>3</td>\n",
       "      <td>TOYOTA Corolla 2.0 D4D HATCHB TERRA 2/3-Doors</td>\n",
       "      <td>13950</td>\n",
       "      <td>24</td>\n",
       "      <td>9</td>\n",
       "      <td>2002</td>\n",
       "      <td>41711</td>\n",
       "      <td>Diesel</td>\n",
       "      <td>90</td>\n",
       "      <td>1</td>\n",
       "      <td>...</td>\n",
       "      <td>0</td>\n",
       "      <td>1</td>\n",
       "      <td>0</td>\n",
       "      <td>0</td>\n",
       "      <td>0</td>\n",
       "      <td>1</td>\n",
       "      <td>0</td>\n",
       "      <td>0</td>\n",
       "      <td>0</td>\n",
       "      <td>0</td>\n",
       "    </tr>\n",
       "  </tbody>\n",
       "</table>\n",
       "<p>3 rows × 39 columns</p>\n",
       "</div>"
      ],
      "text/plain": [
       "   id                                          model  price  age_08_04  \\\n",
       "0   1  TOYOTA Corolla 2.0 D4D HATCHB TERRA 2/3-Doors  13500         23   \n",
       "1   2  TOYOTA Corolla 2.0 D4D HATCHB TERRA 2/3-Doors  13750         23   \n",
       "2   3  TOYOTA Corolla 2.0 D4D HATCHB TERRA 2/3-Doors  13950         24   \n",
       "\n",
       "   mfg_month  mfg_year     km fuel_type  hp  met_color  ... powered_windows  \\\n",
       "0         10      2002  46986    Diesel  90          1  ...               1   \n",
       "1         10      2002  72937    Diesel  90          1  ...               0   \n",
       "2          9      2002  41711    Diesel  90          1  ...               0   \n",
       "\n",
       "   power_steering  radio  mistlamps  sport_model  backseat_divider  \\\n",
       "0               1      0          0            0                 1   \n",
       "1               1      0          0            0                 1   \n",
       "2               1      0          0            0                 1   \n",
       "\n",
       "   metallic_rim  radio_cassette  parking_assistant  tow_bar  \n",
       "0             0               0                  0        0  \n",
       "1             0               0                  0        0  \n",
       "2             0               0                  0        0  \n",
       "\n",
       "[3 rows x 39 columns]"
      ]
     },
     "execution_count": 2,
     "metadata": {},
     "output_type": "execute_result"
    }
   ],
   "source": [
    "car_df = pd.read_csv(\"./datasets/dmba/ToyotaCorolla.csv\")\n",
    "car_df = car_df.iloc[:1000]\n",
    "normalize_columns(car_df)\n",
    "car_df.head(3)"
   ]
  },
  {
   "cell_type": "code",
   "execution_count": 3,
   "id": "ultimate-singing",
   "metadata": {},
   "outputs": [],
   "source": [
    "predictors = [\n",
    "    \"age_08_04\",\n",
    "    \"km\",\n",
    "    \"fuel_type\",\n",
    "    \"hp\",\n",
    "    \"met_color\",\n",
    "    \"automatic\",\n",
    "    \"cc\",\n",
    "    \"doors\",\n",
    "    \"quarterly_tax\",\n",
    "    \"weight\",\n",
    "]\n",
    "outcome = \"price\""
   ]
  },
  {
   "cell_type": "code",
   "execution_count": 4,
   "id": "varying-vitamin",
   "metadata": {},
   "outputs": [],
   "source": [
    "# Partition data.\n",
    "X = pd.get_dummies(car_df[predictors], drop_first=True)\n",
    "y = car_df[outcome]\n",
    "\n",
    "train_X, valid_X, train_y, valid_y = train_test_split(\n",
    "    X, y, test_size=0.4, random_state=1\n",
    ")"
   ]
  },
  {
   "cell_type": "code",
   "execution_count": 5,
   "id": "assumed-processing",
   "metadata": {},
   "outputs": [
    {
     "data": {
      "text/plain": [
       "LinearRegression()"
      ]
     },
     "execution_count": 5,
     "metadata": {},
     "output_type": "execute_result"
    }
   ],
   "source": [
    "car_lm = LinearRegression()\n",
    "car_lm.fit(train_X, train_y)"
   ]
  },
  {
   "cell_type": "code",
   "execution_count": 6,
   "id": "adapted-strengthening",
   "metadata": {},
   "outputs": [
    {
     "name": "stdout",
     "output_type": "stream",
     "text": [
      "           Predictor  coefficient\n",
      "0          age_08_04  -140.748761\n",
      "1                 km    -0.017840\n",
      "2                 hp    36.103419\n",
      "3          met_color    84.281830\n",
      "4          automatic   416.781954\n",
      "5                 cc     0.017737\n",
      "6              doors   -50.657863\n",
      "7      quarterly_tax    13.625325\n",
      "8             weight    13.038711\n",
      "9   fuel_type_Diesel  1066.464681\n",
      "10  fuel_type_Petrol  2310.249543\n"
     ]
    }
   ],
   "source": [
    "# Print coefficients\n",
    "print(pd.DataFrame({\"Predictor\": X.columns, \"coefficient\": car_lm.coef_}))"
   ]
  },
  {
   "cell_type": "code",
   "execution_count": 7,
   "id": "ranking-eight",
   "metadata": {},
   "outputs": [
    {
     "data": {
      "text/plain": [
       "1046.9071608220581"
      ]
     },
     "execution_count": 7,
     "metadata": {},
     "output_type": "execute_result"
    }
   ],
   "source": [
    "# Print performance measures (training data)\n",
    "mean_absolute_error(train_y, car_lm.predict(train_X))"
   ]
  },
  {
   "cell_type": "code",
   "execution_count": 8,
   "id": "nuclear-update",
   "metadata": {},
   "outputs": [
    {
     "data": {
      "text/plain": [
       "1017.5971544783305"
      ]
     },
     "execution_count": 8,
     "metadata": {},
     "output_type": "execute_result"
    }
   ],
   "source": [
    "mean_absolute_error(valid_y, car_lm.predict(valid_X))"
   ]
  },
  {
   "cell_type": "code",
   "execution_count": 9,
   "id": "forced-easter",
   "metadata": {},
   "outputs": [
    {
     "data": {
      "text/plain": [
       "<AxesSubplot:>"
      ]
     },
     "execution_count": 9,
     "metadata": {},
     "output_type": "execute_result"
    },
    {
     "data": {
      "image/png": "[encoded data removed]",
      "text/plain": [
       "<Figure size 432x288 with 1 Axes>"
      ]
     },
     "metadata": {
      "needs_background": "light"
     },
     "output_type": "display_data"
    }
   ],
   "source": [
    "car_lm_pred = car_lm.predict(valid_X)\n",
    "result = pd.DataFrame(\n",
    "    {\"Predicted\": car_lm_pred, \"Actual\": valid_y, \"Residual\": valid_y - car_lm_pred}\n",
    ")\n",
    "result.Residual.hist(bins=25)"
   ]
  },
  {
   "cell_type": "markdown",
   "id": "drawn-fancy",
   "metadata": {},
   "source": [
    "## Variable selection in Linear Regression\n",
    "\n",
    "Goal is to reduce the number of predictors. This can be done by:\n",
    "\n",
    "1) exhaustive search\n",
    "2) popular subset selection algorithms, e.g. forward selection or backward elimination\n",
    "3) regularization (shrinkage models)"
   ]
  },
  {
   "cell_type": "code",
   "execution_count": 18,
   "id": "lesser-chuck",
   "metadata": {},
   "outputs": [],
   "source": [
    "from feature_selection import backward_elimination, exhaustive_search, forward_selection\n",
    "from metrics import AIC_score, adjusted_r2_score"
   ]
  },
  {
   "cell_type": "code",
   "execution_count": 11,
   "id": "silent-batch",
   "metadata": {},
   "outputs": [],
   "source": [
    "def train_model(variables):\n",
    "    model = LinearRegression()\n",
    "    model.fit(train_X[list(variables)], train_y)\n",
    "    return model\n",
    "\n",
    "\n",
    "def score_model(model, variables):\n",
    "    pred_y = model.predict(train_X[list(variables)])\n",
    "    # We negate as score is optimized to be as low as possible.\n",
    "    return -adjusted_r2_score(train_y, pred_y, model)"
   ]
  },
  {
   "cell_type": "code",
   "execution_count": 19,
   "id": "living-gambling",
   "metadata": {},
   "outputs": [
    {
     "data": {
      "text/html": [
       "<div>\n",
       "<style scoped>\n",
       "    .dataframe tbody tr th:only-of-type {\n",
       "        vertical-align: middle;\n",
       "    }\n",
       "\n",
       "    .dataframe tbody tr th {\n",
       "        vertical-align: top;\n",
       "    }\n",
       "\n",
       "    .dataframe thead th {\n",
       "        text-align: right;\n",
       "    }\n",
       "</style>\n",
       "<table border=\"1\" class=\"dataframe\">\n",
       "  <thead>\n",
       "    <tr style=\"text-align: right;\">\n",
       "      <th></th>\n",
       "      <th>n</th>\n",
       "      <th>r2adj</th>\n",
       "      <th>AIC</th>\n",
       "      <th>age_08_04</th>\n",
       "      <th>automatic</th>\n",
       "      <th>cc</th>\n",
       "      <th>doors</th>\n",
       "      <th>fuel_type_Diesel</th>\n",
       "      <th>fuel_type_Petrol</th>\n",
       "      <th>hp</th>\n",
       "      <th>km</th>\n",
       "      <th>met_color</th>\n",
       "      <th>quarterly_tax</th>\n",
       "      <th>weight</th>\n",
       "    </tr>\n",
       "  </thead>\n",
       "  <tbody>\n",
       "    <tr>\n",
       "      <th>0</th>\n",
       "      <td>1</td>\n",
       "      <td>-10689.712094</td>\n",
       "      <td>10689.712094</td>\n",
       "      <td>True</td>\n",
       "      <td>False</td>\n",
       "      <td>False</td>\n",
       "      <td>False</td>\n",
       "      <td>False</td>\n",
       "      <td>False</td>\n",
       "      <td>False</td>\n",
       "      <td>False</td>\n",
       "      <td>False</td>\n",
       "      <td>False</td>\n",
       "      <td>False</td>\n",
       "    </tr>\n",
       "    <tr>\n",
       "      <th>1</th>\n",
       "      <td>2</td>\n",
       "      <td>-10597.910645</td>\n",
       "      <td>10597.910645</td>\n",
       "      <td>True</td>\n",
       "      <td>False</td>\n",
       "      <td>False</td>\n",
       "      <td>False</td>\n",
       "      <td>False</td>\n",
       "      <td>False</td>\n",
       "      <td>True</td>\n",
       "      <td>False</td>\n",
       "      <td>False</td>\n",
       "      <td>False</td>\n",
       "      <td>False</td>\n",
       "    </tr>\n",
       "    <tr>\n",
       "      <th>2</th>\n",
       "      <td>3</td>\n",
       "      <td>-10506.084235</td>\n",
       "      <td>10506.084235</td>\n",
       "      <td>True</td>\n",
       "      <td>False</td>\n",
       "      <td>False</td>\n",
       "      <td>False</td>\n",
       "      <td>False</td>\n",
       "      <td>False</td>\n",
       "      <td>True</td>\n",
       "      <td>False</td>\n",
       "      <td>False</td>\n",
       "      <td>False</td>\n",
       "      <td>True</td>\n",
       "    </tr>\n",
       "    <tr>\n",
       "      <th>3</th>\n",
       "      <td>4</td>\n",
       "      <td>-10445.174820</td>\n",
       "      <td>10445.174820</td>\n",
       "      <td>True</td>\n",
       "      <td>False</td>\n",
       "      <td>False</td>\n",
       "      <td>False</td>\n",
       "      <td>False</td>\n",
       "      <td>False</td>\n",
       "      <td>True</td>\n",
       "      <td>True</td>\n",
       "      <td>False</td>\n",
       "      <td>False</td>\n",
       "      <td>True</td>\n",
       "    </tr>\n",
       "    <tr>\n",
       "      <th>4</th>\n",
       "      <td>5</td>\n",
       "      <td>-10435.578836</td>\n",
       "      <td>10435.578836</td>\n",
       "      <td>True</td>\n",
       "      <td>False</td>\n",
       "      <td>False</td>\n",
       "      <td>False</td>\n",
       "      <td>False</td>\n",
       "      <td>False</td>\n",
       "      <td>True</td>\n",
       "      <td>True</td>\n",
       "      <td>False</td>\n",
       "      <td>True</td>\n",
       "      <td>True</td>\n",
       "    </tr>\n",
       "    <tr>\n",
       "      <th>5</th>\n",
       "      <td>6</td>\n",
       "      <td>-10419.932278</td>\n",
       "      <td>10419.932278</td>\n",
       "      <td>True</td>\n",
       "      <td>False</td>\n",
       "      <td>False</td>\n",
       "      <td>False</td>\n",
       "      <td>False</td>\n",
       "      <td>True</td>\n",
       "      <td>True</td>\n",
       "      <td>True</td>\n",
       "      <td>False</td>\n",
       "      <td>True</td>\n",
       "      <td>True</td>\n",
       "    </tr>\n",
       "    <tr>\n",
       "      <th>6</th>\n",
       "      <td>7</td>\n",
       "      <td>-10418.104025</td>\n",
       "      <td>10418.104025</td>\n",
       "      <td>True</td>\n",
       "      <td>False</td>\n",
       "      <td>False</td>\n",
       "      <td>False</td>\n",
       "      <td>True</td>\n",
       "      <td>True</td>\n",
       "      <td>True</td>\n",
       "      <td>True</td>\n",
       "      <td>False</td>\n",
       "      <td>True</td>\n",
       "      <td>True</td>\n",
       "    </tr>\n",
       "    <tr>\n",
       "      <th>7</th>\n",
       "      <td>8</td>\n",
       "      <td>-10417.290103</td>\n",
       "      <td>10417.290103</td>\n",
       "      <td>True</td>\n",
       "      <td>True</td>\n",
       "      <td>False</td>\n",
       "      <td>False</td>\n",
       "      <td>True</td>\n",
       "      <td>True</td>\n",
       "      <td>True</td>\n",
       "      <td>True</td>\n",
       "      <td>False</td>\n",
       "      <td>True</td>\n",
       "      <td>True</td>\n",
       "    </tr>\n",
       "    <tr>\n",
       "      <th>8</th>\n",
       "      <td>9</td>\n",
       "      <td>-10418.789079</td>\n",
       "      <td>10418.789079</td>\n",
       "      <td>True</td>\n",
       "      <td>True</td>\n",
       "      <td>False</td>\n",
       "      <td>True</td>\n",
       "      <td>True</td>\n",
       "      <td>True</td>\n",
       "      <td>True</td>\n",
       "      <td>True</td>\n",
       "      <td>False</td>\n",
       "      <td>True</td>\n",
       "      <td>True</td>\n",
       "    </tr>\n",
       "    <tr>\n",
       "      <th>9</th>\n",
       "      <td>10</td>\n",
       "      <td>-10420.330800</td>\n",
       "      <td>10420.330800</td>\n",
       "      <td>True</td>\n",
       "      <td>True</td>\n",
       "      <td>False</td>\n",
       "      <td>True</td>\n",
       "      <td>True</td>\n",
       "      <td>True</td>\n",
       "      <td>True</td>\n",
       "      <td>True</td>\n",
       "      <td>True</td>\n",
       "      <td>True</td>\n",
       "      <td>True</td>\n",
       "    </tr>\n",
       "    <tr>\n",
       "      <th>10</th>\n",
       "      <td>11</td>\n",
       "      <td>-10422.298278</td>\n",
       "      <td>10422.298278</td>\n",
       "      <td>True</td>\n",
       "      <td>True</td>\n",
       "      <td>True</td>\n",
       "      <td>True</td>\n",
       "      <td>True</td>\n",
       "      <td>True</td>\n",
       "      <td>True</td>\n",
       "      <td>True</td>\n",
       "      <td>True</td>\n",
       "      <td>True</td>\n",
       "      <td>True</td>\n",
       "    </tr>\n",
       "  </tbody>\n",
       "</table>\n",
       "</div>"
      ],
      "text/plain": [
       "     n         r2adj           AIC  age_08_04  automatic     cc  doors  \\\n",
       "0    1 -10689.712094  10689.712094       True      False  False  False   \n",
       "1    2 -10597.910645  10597.910645       True      False  False  False   \n",
       "2    3 -10506.084235  10506.084235       True      False  False  False   \n",
       "3    4 -10445.174820  10445.174820       True      False  False  False   \n",
       "4    5 -10435.578836  10435.578836       True      False  False  False   \n",
       "5    6 -10419.932278  10419.932278       True      False  False  False   \n",
       "6    7 -10418.104025  10418.104025       True      False  False  False   \n",
       "7    8 -10417.290103  10417.290103       True       True  False  False   \n",
       "8    9 -10418.789079  10418.789079       True       True  False   True   \n",
       "9   10 -10420.330800  10420.330800       True       True  False   True   \n",
       "10  11 -10422.298278  10422.298278       True       True   True   True   \n",
       "\n",
       "    fuel_type_Diesel  fuel_type_Petrol     hp     km  met_color  \\\n",
       "0              False             False  False  False      False   \n",
       "1              False             False   True  False      False   \n",
       "2              False             False   True  False      False   \n",
       "3              False             False   True   True      False   \n",
       "4              False             False   True   True      False   \n",
       "5              False              True   True   True      False   \n",
       "6               True              True   True   True      False   \n",
       "7               True              True   True   True      False   \n",
       "8               True              True   True   True      False   \n",
       "9               True              True   True   True       True   \n",
       "10              True              True   True   True       True   \n",
       "\n",
       "    quarterly_tax  weight  \n",
       "0           False   False  \n",
       "1           False   False  \n",
       "2           False    True  \n",
       "3           False    True  \n",
       "4            True    True  \n",
       "5            True    True  \n",
       "6            True    True  \n",
       "7            True    True  \n",
       "8            True    True  \n",
       "9            True    True  \n",
       "10           True    True  "
      ]
     },
     "execution_count": 19,
     "metadata": {},
     "output_type": "execute_result"
    }
   ],
   "source": [
    "all_variables = train_X.columns\n",
    "results = exhaustive_search(all_variables, train_model, score_model)\n",
    "\n",
    "data = []\n",
    "for result in results:\n",
    "    model = result[\"model\"]\n",
    "    variables = list(result[\"variables\"])\n",
    "    AIC = AIC_score(train_y, model.predict(train_X[variables]), model)\n",
    "\n",
    "    d = {\"n\": result[\"n\"], \"r2adj\": -result[\"score\"], \"AIC\": AIC}\n",
    "    d.update({var: var in result[\"variables\"] for var in all_variables})\n",
    "    data.append(d)\n",
    "pd.DataFrame(data, columns=(\"n\", \"r2adj\", \"AIC\") + tuple(sorted(all_variables)))"
   ]
  },
  {
   "cell_type": "markdown",
   "id": "capital-concept",
   "metadata": {},
   "source": [
    "## Backward elimination for reducint predictors in Toyota Corolla example."
   ]
  },
  {
   "cell_type": "code",
   "execution_count": 20,
   "id": "adjusted-religion",
   "metadata": {},
   "outputs": [
    {
     "name": "stdout",
     "output_type": "stream",
     "text": [
      "Variables: age_08_04, km, hp, met_color, automatic, cc, doors, quarterly_tax, weight, fuel_type_Diesel, fuel_type_Petrol\n",
      "Start: score=10422.30\n",
      "Step: score=10420.33, remove cc\n",
      "Step: score=10418.79, remove met_color\n",
      "Step: score=10417.29, remove doors\n",
      "Step: score=10417.29, remove None\n"
     ]
    },
    {
     "data": {
      "text/plain": [
       "['age_08_04',\n",
       " 'km',\n",
       " 'hp',\n",
       " 'automatic',\n",
       " 'quarterly_tax',\n",
       " 'weight',\n",
       " 'fuel_type_Diesel',\n",
       " 'fuel_type_Petrol']"
      ]
     },
     "execution_count": 20,
     "metadata": {},
     "output_type": "execute_result"
    }
   ],
   "source": [
    "def score_model(model, variables):\n",
    "    return AIC_score(train_y, model.predict(train_X[variables]), model)\n",
    "\n",
    "\n",
    "all_variables = train_X.columns\n",
    "best_model, best_variables = backward_elimination(\n",
    "    all_variables, train_model, score_model, verbose=True\n",
    ")\n",
    "best_variables"
   ]
  },
  {
   "cell_type": "markdown",
   "id": "established-bulgarian",
   "metadata": {},
   "source": [
    "## Forward selection for reducing predictors in Toyota Corolla example"
   ]
  },
  {
   "cell_type": "code",
   "execution_count": 21,
   "id": "outside-southwest",
   "metadata": {},
   "outputs": [],
   "source": [
    "# The initial model is the constant model - this requires special handling in train_model and score_model\n",
    "def train_model(variables):\n",
    "    if len(variables) == 0:\n",
    "        return None\n",
    "    model = LinearRegression()\n",
    "    model.fit(train_X[variables], train_y)\n",
    "    return model\n",
    "\n",
    "\n",
    "def score_model(model, variables):\n",
    "    if len(variables) == 0:\n",
    "        return AIC_score(train_y, [train_y.mean()] * len(train_y), model, df=1)\n",
    "\n",
    "    return AIC_score(train_y, model.predict(train_X[variables]), model)"
   ]
  },
  {
   "cell_type": "code",
   "execution_count": 22,
   "id": "curious-blank",
   "metadata": {},
   "outputs": [
    {
     "name": "stdout",
     "output_type": "stream",
     "text": [
      "Variables: age_08_04, km, hp, met_color, automatic, cc, doors, quarterly_tax, weight, fuel_type_Diesel, fuel_type_Petrol\n",
      "Start: score=11565.07, constant\n",
      "Step: score=10689.71, add age_08_04\n",
      "Step: score=10597.91, add hp\n",
      "Step: score=10506.08, add weight\n",
      "Step: score=10445.17, add km\n",
      "Step: score=10435.58, add quarterly_tax\n",
      "Step: score=10419.93, add fuel_type_Petrol\n",
      "Step: score=10418.10, add fuel_type_Diesel\n",
      "Step: score=10417.29, add automatic\n",
      "Step: score=10417.29, add None\n"
     ]
    },
    {
     "data": {
      "text/plain": [
       "['age_08_04',\n",
       " 'hp',\n",
       " 'weight',\n",
       " 'km',\n",
       " 'quarterly_tax',\n",
       " 'fuel_type_Petrol',\n",
       " 'fuel_type_Diesel',\n",
       " 'automatic']"
      ]
     },
     "execution_count": 22,
     "metadata": {},
     "output_type": "execute_result"
    }
   ],
   "source": [
    "best_model, best_variables = forward_selection(\n",
    "    train_X.columns, train_model, score_model, verbose=True\n",
    ")\n",
    "best_variables"
   ]
  },
  {
   "cell_type": "markdown",
   "id": "individual-queens",
   "metadata": {},
   "source": [
    "## Lasso and ridge regression applied to the Toyota Corolla data\n"
   ]
  },
  {
   "cell_type": "code",
   "execution_count": 25,
   "id": "elegant-rwanda",
   "metadata": {},
   "outputs": [
    {
     "data": {
      "text/plain": [
       "1021.5286401139142"
      ]
     },
     "execution_count": 25,
     "metadata": {},
     "output_type": "execute_result"
    }
   ],
   "source": [
    "lasso = Lasso(normalize=True, alpha=1)\n",
    "lasso.fit(train_X, train_y)\n",
    "mean_absolute_error(valid_y, lasso.predict(valid_X))"
   ]
  },
  {
   "cell_type": "code",
   "execution_count": 26,
   "id": "further-budget",
   "metadata": {},
   "outputs": [
    {
     "data": {
      "text/plain": [
       "1052.464948006995"
      ]
     },
     "execution_count": 26,
     "metadata": {},
     "output_type": "execute_result"
    }
   ],
   "source": [
    "lasso_cv = LassoCV(normalize=True, cv=5)\n",
    "lasso_cv.fit(train_X, train_y)\n",
    "mean_absolute_error(valid_y, lasso_cv.predict(valid_X))"
   ]
  },
  {
   "cell_type": "code",
   "execution_count": 27,
   "id": "cutting-parts",
   "metadata": {},
   "outputs": [
    {
     "name": "stdout",
     "output_type": "stream",
     "text": [
      "Lasso-CV chosen regularization: 3.5138446691310588\n",
      "[-1.40370575e+02 -1.76669006e-02  3.38674037e+01  0.00000000e+00\n",
      "  6.94393427e+01  0.00000000e+00  0.00000000e+00  2.70913468e+00\n",
      "  1.24342596e+01 -0.00000000e+00  0.00000000e+00]\n"
     ]
    }
   ],
   "source": [
    "print(\"Lasso-CV chosen regularization:\", lasso_cv.alpha_)\n",
    "print(lasso_cv.coef_)"
   ]
  },
  {
   "cell_type": "code",
   "execution_count": 28,
   "id": "eleven-vertex",
   "metadata": {},
   "outputs": [
    {
     "data": {
      "text/plain": [
       "1353.2735295225127"
      ]
     },
     "execution_count": 28,
     "metadata": {},
     "output_type": "execute_result"
    }
   ],
   "source": [
    "ridge = Ridge(normalize=True, alpha=1)\n",
    "ridge.fit(train_X, train_y)\n",
    "mean_absolute_error(valid_y, ridge.predict(valid_X))"
   ]
  },
  {
   "cell_type": "code",
   "execution_count": 29,
   "id": "stuffed-period",
   "metadata": {},
   "outputs": [
    {
     "data": {
      "text/plain": [
       "1017.2355887928646"
      ]
     },
     "execution_count": 29,
     "metadata": {},
     "output_type": "execute_result"
    }
   ],
   "source": [
    "bayesian_ridge = BayesianRidge(normalize=True)\n",
    "bayesian_ridge.fit(train_X, train_y)\n",
    "mean_absolute_error(valid_y, bayesian_ridge.predict(valid_X))"
   ]
  },
  {
   "cell_type": "code",
   "execution_count": 30,
   "id": "theoretical-craps",
   "metadata": {},
   "outputs": [
    {
     "name": "stdout",
     "output_type": "stream",
     "text": [
      "Bayesian ridge chosen regularization 0.00462283343996883\n"
     ]
    }
   ],
   "source": [
    "alpha = bayesian_ridge.lambda_ / bayesian_ridge.alpha_\n",
    "print(\"Bayesian ridge chosen regularization\", alpha)"
   ]
  }
 ],
 "metadata": {
  "kernelspec": {
   "display_name": "Python 3 (ipykernel)",
   "language": "python",
   "name": "python3"
  },
  "language_info": {
   "codemirror_mode": {
    "name": "ipython",
    "version": 3
   },
   "file_extension": ".py",
   "mimetype": "text/x-python",
   "name": "python",
   "nbconvert_exporter": "python",
   "pygments_lexer": "ipython3",
   "version": "3.9.14"
  }
 },
 "nbformat": 4,
 "nbformat_minor": 5
}
